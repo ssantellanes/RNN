{
 "cells": [
  {
   "cell_type": "code",
   "execution_count": 1,
   "metadata": {},
   "outputs": [],
   "source": [
    "using DataFrames\n",
    "using CSV"
   ]
  },
  {
   "cell_type": "code",
   "execution_count": 52,
   "metadata": {},
   "outputs": [
    {
     "data": {
      "text/html": [
       "<div><div style = \"float: left;\"><span>432×4 DataFrame</span></div><div style = \"float: right;\"><span style = \"font-style: italic;\">407 rows omitted</span></div><div style = \"clear: both;\"></div></div><div class = \"data-frame\" style = \"overflow-x: scroll;\"><table class = \"data-frame\" style = \"margin-bottom: 6px;\"><thead><tr class = \"header\"><th class = \"rowNumber\" style = \"font-weight: bold; text-align: right;\">Row</th><th style = \"text-align: left;\">DateTime</th><th style = \"text-align: left;\">Average</th><th style = \"text-align: left;\">LRAPA-Amazon Park A</th><th style = \"text-align: left;\">LRAPA-Amazon Park B</th></tr><tr class = \"subheader headerLastRow\"><th class = \"rowNumber\" style = \"font-weight: bold; text-align: right;\"></th><th title = \"String31\" style = \"text-align: left;\">String31</th><th title = \"Union{Missing, Float64}\" style = \"text-align: left;\">Float64?</th><th title = \"Int64\" style = \"text-align: left;\">Int64</th><th title = \"Int64\" style = \"text-align: left;\">Int64</th></tr></thead><tbody><tr><td class = \"rowNumber\" style = \"font-weight: bold; text-align: right;\">1</td><td style = \"text-align: left;\">2024-06-23 15:00:00</td><td style = \"text-align: right;\">7.8</td><td style = \"text-align: right;\">4</td><td style = \"text-align: right;\">5</td></tr><tr><td class = \"rowNumber\" style = \"font-weight: bold; text-align: right;\">2</td><td style = \"text-align: left;\">2024-06-23 15:10:00</td><td style = \"font-style: italic; text-align: right;\">missing</td><td style = \"text-align: right;\">3</td><td style = \"text-align: right;\">4</td></tr><tr><td class = \"rowNumber\" style = \"font-weight: bold; text-align: right;\">3</td><td style = \"text-align: left;\">2024-06-23 15:20:00</td><td style = \"font-style: italic; text-align: right;\">missing</td><td style = \"text-align: right;\">3</td><td style = \"text-align: right;\">4</td></tr><tr><td class = \"rowNumber\" style = \"font-weight: bold; text-align: right;\">4</td><td style = \"text-align: left;\">2024-06-23 15:30:00</td><td style = \"font-style: italic; text-align: right;\">missing</td><td style = \"text-align: right;\">3</td><td style = \"text-align: right;\">3</td></tr><tr><td class = \"rowNumber\" style = \"font-weight: bold; text-align: right;\">5</td><td style = \"text-align: left;\">2024-06-23 15:40:00</td><td style = \"font-style: italic; text-align: right;\">missing</td><td style = \"text-align: right;\">1</td><td style = \"text-align: right;\">2</td></tr><tr><td class = \"rowNumber\" style = \"font-weight: bold; text-align: right;\">6</td><td style = \"text-align: left;\">2024-06-23 15:50:00</td><td style = \"font-style: italic; text-align: right;\">missing</td><td style = \"text-align: right;\">1</td><td style = \"text-align: right;\">1</td></tr><tr><td class = \"rowNumber\" style = \"font-weight: bold; text-align: right;\">7</td><td style = \"text-align: left;\">2024-06-23 16:00:00</td><td style = \"font-style: italic; text-align: right;\">missing</td><td style = \"text-align: right;\">2</td><td style = \"text-align: right;\">2</td></tr><tr><td class = \"rowNumber\" style = \"font-weight: bold; text-align: right;\">8</td><td style = \"text-align: left;\">2024-06-23 16:10:00</td><td style = \"font-style: italic; text-align: right;\">missing</td><td style = \"text-align: right;\">1</td><td style = \"text-align: right;\">2</td></tr><tr><td class = \"rowNumber\" style = \"font-weight: bold; text-align: right;\">9</td><td style = \"text-align: left;\">2024-06-23 16:20:00</td><td style = \"font-style: italic; text-align: right;\">missing</td><td style = \"text-align: right;\">1</td><td style = \"text-align: right;\">1</td></tr><tr><td class = \"rowNumber\" style = \"font-weight: bold; text-align: right;\">10</td><td style = \"text-align: left;\">2024-06-23 16:30:00</td><td style = \"font-style: italic; text-align: right;\">missing</td><td style = \"text-align: right;\">1</td><td style = \"text-align: right;\">1</td></tr><tr><td class = \"rowNumber\" style = \"font-weight: bold; text-align: right;\">11</td><td style = \"text-align: left;\">2024-06-23 16:40:00</td><td style = \"font-style: italic; text-align: right;\">missing</td><td style = \"text-align: right;\">1</td><td style = \"text-align: right;\">1</td></tr><tr><td class = \"rowNumber\" style = \"font-weight: bold; text-align: right;\">12</td><td style = \"text-align: left;\">2024-06-23 16:50:00</td><td style = \"font-style: italic; text-align: right;\">missing</td><td style = \"text-align: right;\">1</td><td style = \"text-align: right;\">1</td></tr><tr><td class = \"rowNumber\" style = \"font-weight: bold; text-align: right;\">13</td><td style = \"text-align: left;\">2024-06-23 17:00:00</td><td style = \"font-style: italic; text-align: right;\">missing</td><td style = \"text-align: right;\">1</td><td style = \"text-align: right;\">1</td></tr><tr><td style = \"text-align: right;\">&vellip;</td><td style = \"text-align: right;\">&vellip;</td><td style = \"text-align: right;\">&vellip;</td><td style = \"text-align: right;\">&vellip;</td><td style = \"text-align: right;\">&vellip;</td></tr><tr><td class = \"rowNumber\" style = \"font-weight: bold; text-align: right;\">421</td><td style = \"text-align: left;\">2024-06-26 13:00:00</td><td style = \"font-style: italic; text-align: right;\">missing</td><td style = \"text-align: right;\">1</td><td style = \"text-align: right;\">2</td></tr><tr><td class = \"rowNumber\" style = \"font-weight: bold; text-align: right;\">422</td><td style = \"text-align: left;\">2024-06-26 13:10:00</td><td style = \"font-style: italic; text-align: right;\">missing</td><td style = \"text-align: right;\">0</td><td style = \"text-align: right;\">0</td></tr><tr><td class = \"rowNumber\" style = \"font-weight: bold; text-align: right;\">423</td><td style = \"text-align: left;\">2024-06-26 13:20:00</td><td style = \"font-style: italic; text-align: right;\">missing</td><td style = \"text-align: right;\">1</td><td style = \"text-align: right;\">0</td></tr><tr><td class = \"rowNumber\" style = \"font-weight: bold; text-align: right;\">424</td><td style = \"text-align: left;\">2024-06-26 13:30:00</td><td style = \"font-style: italic; text-align: right;\">missing</td><td style = \"text-align: right;\">0</td><td style = \"text-align: right;\">0</td></tr><tr><td class = \"rowNumber\" style = \"font-weight: bold; text-align: right;\">425</td><td style = \"text-align: left;\">2024-06-26 13:40:00</td><td style = \"font-style: italic; text-align: right;\">missing</td><td style = \"text-align: right;\">0</td><td style = \"text-align: right;\">1</td></tr><tr><td class = \"rowNumber\" style = \"font-weight: bold; text-align: right;\">426</td><td style = \"text-align: left;\">2024-06-26 13:50:00</td><td style = \"font-style: italic; text-align: right;\">missing</td><td style = \"text-align: right;\">0</td><td style = \"text-align: right;\">1</td></tr><tr><td class = \"rowNumber\" style = \"font-weight: bold; text-align: right;\">427</td><td style = \"text-align: left;\">2024-06-26 14:00:00</td><td style = \"font-style: italic; text-align: right;\">missing</td><td style = \"text-align: right;\">0</td><td style = \"text-align: right;\">0</td></tr><tr><td class = \"rowNumber\" style = \"font-weight: bold; text-align: right;\">428</td><td style = \"text-align: left;\">2024-06-26 14:10:00</td><td style = \"font-style: italic; text-align: right;\">missing</td><td style = \"text-align: right;\">0</td><td style = \"text-align: right;\">0</td></tr><tr><td class = \"rowNumber\" style = \"font-weight: bold; text-align: right;\">429</td><td style = \"text-align: left;\">2024-06-26 14:20:00</td><td style = \"font-style: italic; text-align: right;\">missing</td><td style = \"text-align: right;\">0</td><td style = \"text-align: right;\">1</td></tr><tr><td class = \"rowNumber\" style = \"font-weight: bold; text-align: right;\">430</td><td style = \"text-align: left;\">2024-06-26 14:30:00</td><td style = \"font-style: italic; text-align: right;\">missing</td><td style = \"text-align: right;\">1</td><td style = \"text-align: right;\">1</td></tr><tr><td class = \"rowNumber\" style = \"font-weight: bold; text-align: right;\">431</td><td style = \"text-align: left;\">2024-06-26 14:40:00</td><td style = \"font-style: italic; text-align: right;\">missing</td><td style = \"text-align: right;\">1</td><td style = \"text-align: right;\">1</td></tr><tr><td class = \"rowNumber\" style = \"font-weight: bold; text-align: right;\">432</td><td style = \"text-align: left;\">2024-06-26 14:50:00</td><td style = \"text-align: right;\">7.8</td><td style = \"text-align: right;\">1</td><td style = \"text-align: right;\">1</td></tr></tbody></table></div>"
      ],
      "text/latex": [
       "\\begin{tabular}{r|cccc}\n",
       "\t& DateTime & Average & LRAPA-Amazon Park A & LRAPA-Amazon Park B\\\\\n",
       "\t\\hline\n",
       "\t& String31 & Float64? & Int64 & Int64\\\\\n",
       "\t\\hline\n",
       "\t1 & 2024-06-23 15:00:00 & 7.8 & 4 & 5 \\\\\n",
       "\t2 & 2024-06-23 15:10:00 & \\emph{missing} & 3 & 4 \\\\\n",
       "\t3 & 2024-06-23 15:20:00 & \\emph{missing} & 3 & 4 \\\\\n",
       "\t4 & 2024-06-23 15:30:00 & \\emph{missing} & 3 & 3 \\\\\n",
       "\t5 & 2024-06-23 15:40:00 & \\emph{missing} & 1 & 2 \\\\\n",
       "\t6 & 2024-06-23 15:50:00 & \\emph{missing} & 1 & 1 \\\\\n",
       "\t7 & 2024-06-23 16:00:00 & \\emph{missing} & 2 & 2 \\\\\n",
       "\t8 & 2024-06-23 16:10:00 & \\emph{missing} & 1 & 2 \\\\\n",
       "\t9 & 2024-06-23 16:20:00 & \\emph{missing} & 1 & 1 \\\\\n",
       "\t10 & 2024-06-23 16:30:00 & \\emph{missing} & 1 & 1 \\\\\n",
       "\t11 & 2024-06-23 16:40:00 & \\emph{missing} & 1 & 1 \\\\\n",
       "\t12 & 2024-06-23 16:50:00 & \\emph{missing} & 1 & 1 \\\\\n",
       "\t13 & 2024-06-23 17:00:00 & \\emph{missing} & 1 & 1 \\\\\n",
       "\t14 & 2024-06-23 17:10:00 & \\emph{missing} & 2 & 1 \\\\\n",
       "\t15 & 2024-06-23 17:20:00 & \\emph{missing} & 2 & 2 \\\\\n",
       "\t16 & 2024-06-23 17:30:00 & \\emph{missing} & 2 & 2 \\\\\n",
       "\t17 & 2024-06-23 17:40:00 & \\emph{missing} & 2 & 3 \\\\\n",
       "\t18 & 2024-06-23 17:50:00 & \\emph{missing} & 3 & 3 \\\\\n",
       "\t19 & 2024-06-23 18:00:00 & \\emph{missing} & 3 & 3 \\\\\n",
       "\t20 & 2024-06-23 18:10:00 & \\emph{missing} & 3 & 3 \\\\\n",
       "\t21 & 2024-06-23 18:20:00 & \\emph{missing} & 3 & 3 \\\\\n",
       "\t22 & 2024-06-23 18:30:00 & \\emph{missing} & 3 & 3 \\\\\n",
       "\t23 & 2024-06-23 18:40:00 & \\emph{missing} & 4 & 3 \\\\\n",
       "\t24 & 2024-06-23 18:50:00 & \\emph{missing} & 3 & 3 \\\\\n",
       "\t$\\dots$ & $\\dots$ & $\\dots$ & $\\dots$ & $\\dots$ \\\\\n",
       "\\end{tabular}\n"
      ],
      "text/plain": [
       "\u001b[1m432×4 DataFrame\u001b[0m\n",
       "\u001b[1m Row \u001b[0m│\u001b[1m DateTime            \u001b[0m\u001b[1m Average   \u001b[0m\u001b[1m LRAPA-Amazon Park A \u001b[0m\u001b[1m LRAPA-Amazon Park \u001b[0m ⋯\n",
       "     │\u001b[90m String31            \u001b[0m\u001b[90m Float64?  \u001b[0m\u001b[90m Int64               \u001b[0m\u001b[90m Int64             \u001b[0m ⋯\n",
       "─────┼──────────────────────────────────────────────────────────────────────────\n",
       "   1 │ 2024-06-23 15:00:00        7.8                    4                     ⋯\n",
       "   2 │ 2024-06-23 15:10:00 \u001b[90m missing   \u001b[0m                   3\n",
       "   3 │ 2024-06-23 15:20:00 \u001b[90m missing   \u001b[0m                   3\n",
       "   4 │ 2024-06-23 15:30:00 \u001b[90m missing   \u001b[0m                   3\n",
       "   5 │ 2024-06-23 15:40:00 \u001b[90m missing   \u001b[0m                   1                     ⋯\n",
       "   6 │ 2024-06-23 15:50:00 \u001b[90m missing   \u001b[0m                   1\n",
       "   7 │ 2024-06-23 16:00:00 \u001b[90m missing   \u001b[0m                   2\n",
       "   8 │ 2024-06-23 16:10:00 \u001b[90m missing   \u001b[0m                   1\n",
       "  ⋮  │          ⋮               ⋮               ⋮                    ⋮         ⋱\n",
       " 426 │ 2024-06-26 13:50:00 \u001b[90m missing   \u001b[0m                   0                     ⋯\n",
       " 427 │ 2024-06-26 14:00:00 \u001b[90m missing   \u001b[0m                   0\n",
       " 428 │ 2024-06-26 14:10:00 \u001b[90m missing   \u001b[0m                   0\n",
       " 429 │ 2024-06-26 14:20:00 \u001b[90m missing   \u001b[0m                   0\n",
       " 430 │ 2024-06-26 14:30:00 \u001b[90m missing   \u001b[0m                   1                     ⋯\n",
       " 431 │ 2024-06-26 14:40:00 \u001b[90m missing   \u001b[0m                   1\n",
       " 432 │ 2024-06-26 14:50:00        7.8                    1\n",
       "\u001b[36m                                                   1 column and 417 rows omitted\u001b[0m"
      ]
     },
     "metadata": {},
     "output_type": "display_data"
    }
   ],
   "source": [
    "data=CSV.read(\"/Users/seansantellanes/Documents/RNN/us-epa-pm25-aqi.csv\", DataFrame)"
   ]
  },
  {
   "cell_type": "code",
   "execution_count": 53,
   "metadata": {},
   "outputs": [
    {
     "data": {
      "text/html": [
       "<div><div style = \"float: left;\"><span>432×3 DataFrame</span></div><div style = \"float: right;\"><span style = \"font-style: italic;\">407 rows omitted</span></div><div style = \"clear: both;\"></div></div><div class = \"data-frame\" style = \"overflow-x: scroll;\"><table class = \"data-frame\" style = \"margin-bottom: 6px;\"><thead><tr class = \"header\"><th class = \"rowNumber\" style = \"font-weight: bold; text-align: right;\">Row</th><th style = \"text-align: left;\">DateTime</th><th style = \"text-align: left;\">LRAPA-Amazon Park A</th><th style = \"text-align: left;\">LRAPA-Amazon Park B</th></tr><tr class = \"subheader headerLastRow\"><th class = \"rowNumber\" style = \"font-weight: bold; text-align: right;\"></th><th title = \"String31\" style = \"text-align: left;\">String31</th><th title = \"Int64\" style = \"text-align: left;\">Int64</th><th title = \"Int64\" style = \"text-align: left;\">Int64</th></tr></thead><tbody><tr><td class = \"rowNumber\" style = \"font-weight: bold; text-align: right;\">1</td><td style = \"text-align: left;\">2024-06-23 15:00:00</td><td style = \"text-align: right;\">4</td><td style = \"text-align: right;\">5</td></tr><tr><td class = \"rowNumber\" style = \"font-weight: bold; text-align: right;\">2</td><td style = \"text-align: left;\">2024-06-23 15:10:00</td><td style = \"text-align: right;\">3</td><td style = \"text-align: right;\">4</td></tr><tr><td class = \"rowNumber\" style = \"font-weight: bold; text-align: right;\">3</td><td style = \"text-align: left;\">2024-06-23 15:20:00</td><td style = \"text-align: right;\">3</td><td style = \"text-align: right;\">4</td></tr><tr><td class = \"rowNumber\" style = \"font-weight: bold; text-align: right;\">4</td><td style = \"text-align: left;\">2024-06-23 15:30:00</td><td style = \"text-align: right;\">3</td><td style = \"text-align: right;\">3</td></tr><tr><td class = \"rowNumber\" style = \"font-weight: bold; text-align: right;\">5</td><td style = \"text-align: left;\">2024-06-23 15:40:00</td><td style = \"text-align: right;\">1</td><td style = \"text-align: right;\">2</td></tr><tr><td class = \"rowNumber\" style = \"font-weight: bold; text-align: right;\">6</td><td style = \"text-align: left;\">2024-06-23 15:50:00</td><td style = \"text-align: right;\">1</td><td style = \"text-align: right;\">1</td></tr><tr><td class = \"rowNumber\" style = \"font-weight: bold; text-align: right;\">7</td><td style = \"text-align: left;\">2024-06-23 16:00:00</td><td style = \"text-align: right;\">2</td><td style = \"text-align: right;\">2</td></tr><tr><td class = \"rowNumber\" style = \"font-weight: bold; text-align: right;\">8</td><td style = \"text-align: left;\">2024-06-23 16:10:00</td><td style = \"text-align: right;\">1</td><td style = \"text-align: right;\">2</td></tr><tr><td class = \"rowNumber\" style = \"font-weight: bold; text-align: right;\">9</td><td style = \"text-align: left;\">2024-06-23 16:20:00</td><td style = \"text-align: right;\">1</td><td style = \"text-align: right;\">1</td></tr><tr><td class = \"rowNumber\" style = \"font-weight: bold; text-align: right;\">10</td><td style = \"text-align: left;\">2024-06-23 16:30:00</td><td style = \"text-align: right;\">1</td><td style = \"text-align: right;\">1</td></tr><tr><td class = \"rowNumber\" style = \"font-weight: bold; text-align: right;\">11</td><td style = \"text-align: left;\">2024-06-23 16:40:00</td><td style = \"text-align: right;\">1</td><td style = \"text-align: right;\">1</td></tr><tr><td class = \"rowNumber\" style = \"font-weight: bold; text-align: right;\">12</td><td style = \"text-align: left;\">2024-06-23 16:50:00</td><td style = \"text-align: right;\">1</td><td style = \"text-align: right;\">1</td></tr><tr><td class = \"rowNumber\" style = \"font-weight: bold; text-align: right;\">13</td><td style = \"text-align: left;\">2024-06-23 17:00:00</td><td style = \"text-align: right;\">1</td><td style = \"text-align: right;\">1</td></tr><tr><td style = \"text-align: right;\">&vellip;</td><td style = \"text-align: right;\">&vellip;</td><td style = \"text-align: right;\">&vellip;</td><td style = \"text-align: right;\">&vellip;</td></tr><tr><td class = \"rowNumber\" style = \"font-weight: bold; text-align: right;\">421</td><td style = \"text-align: left;\">2024-06-26 13:00:00</td><td style = \"text-align: right;\">1</td><td style = \"text-align: right;\">2</td></tr><tr><td class = \"rowNumber\" style = \"font-weight: bold; text-align: right;\">422</td><td style = \"text-align: left;\">2024-06-26 13:10:00</td><td style = \"text-align: right;\">0</td><td style = \"text-align: right;\">0</td></tr><tr><td class = \"rowNumber\" style = \"font-weight: bold; text-align: right;\">423</td><td style = \"text-align: left;\">2024-06-26 13:20:00</td><td style = \"text-align: right;\">1</td><td style = \"text-align: right;\">0</td></tr><tr><td class = \"rowNumber\" style = \"font-weight: bold; text-align: right;\">424</td><td style = \"text-align: left;\">2024-06-26 13:30:00</td><td style = \"text-align: right;\">0</td><td style = \"text-align: right;\">0</td></tr><tr><td class = \"rowNumber\" style = \"font-weight: bold; text-align: right;\">425</td><td style = \"text-align: left;\">2024-06-26 13:40:00</td><td style = \"text-align: right;\">0</td><td style = \"text-align: right;\">1</td></tr><tr><td class = \"rowNumber\" style = \"font-weight: bold; text-align: right;\">426</td><td style = \"text-align: left;\">2024-06-26 13:50:00</td><td style = \"text-align: right;\">0</td><td style = \"text-align: right;\">1</td></tr><tr><td class = \"rowNumber\" style = \"font-weight: bold; text-align: right;\">427</td><td style = \"text-align: left;\">2024-06-26 14:00:00</td><td style = \"text-align: right;\">0</td><td style = \"text-align: right;\">0</td></tr><tr><td class = \"rowNumber\" style = \"font-weight: bold; text-align: right;\">428</td><td style = \"text-align: left;\">2024-06-26 14:10:00</td><td style = \"text-align: right;\">0</td><td style = \"text-align: right;\">0</td></tr><tr><td class = \"rowNumber\" style = \"font-weight: bold; text-align: right;\">429</td><td style = \"text-align: left;\">2024-06-26 14:20:00</td><td style = \"text-align: right;\">0</td><td style = \"text-align: right;\">1</td></tr><tr><td class = \"rowNumber\" style = \"font-weight: bold; text-align: right;\">430</td><td style = \"text-align: left;\">2024-06-26 14:30:00</td><td style = \"text-align: right;\">1</td><td style = \"text-align: right;\">1</td></tr><tr><td class = \"rowNumber\" style = \"font-weight: bold; text-align: right;\">431</td><td style = \"text-align: left;\">2024-06-26 14:40:00</td><td style = \"text-align: right;\">1</td><td style = \"text-align: right;\">1</td></tr><tr><td class = \"rowNumber\" style = \"font-weight: bold; text-align: right;\">432</td><td style = \"text-align: left;\">2024-06-26 14:50:00</td><td style = \"text-align: right;\">1</td><td style = \"text-align: right;\">1</td></tr></tbody></table></div>"
      ],
      "text/latex": [
       "\\begin{tabular}{r|ccc}\n",
       "\t& DateTime & LRAPA-Amazon Park A & LRAPA-Amazon Park B\\\\\n",
       "\t\\hline\n",
       "\t& String31 & Int64 & Int64\\\\\n",
       "\t\\hline\n",
       "\t1 & 2024-06-23 15:00:00 & 4 & 5 \\\\\n",
       "\t2 & 2024-06-23 15:10:00 & 3 & 4 \\\\\n",
       "\t3 & 2024-06-23 15:20:00 & 3 & 4 \\\\\n",
       "\t4 & 2024-06-23 15:30:00 & 3 & 3 \\\\\n",
       "\t5 & 2024-06-23 15:40:00 & 1 & 2 \\\\\n",
       "\t6 & 2024-06-23 15:50:00 & 1 & 1 \\\\\n",
       "\t7 & 2024-06-23 16:00:00 & 2 & 2 \\\\\n",
       "\t8 & 2024-06-23 16:10:00 & 1 & 2 \\\\\n",
       "\t9 & 2024-06-23 16:20:00 & 1 & 1 \\\\\n",
       "\t10 & 2024-06-23 16:30:00 & 1 & 1 \\\\\n",
       "\t11 & 2024-06-23 16:40:00 & 1 & 1 \\\\\n",
       "\t12 & 2024-06-23 16:50:00 & 1 & 1 \\\\\n",
       "\t13 & 2024-06-23 17:00:00 & 1 & 1 \\\\\n",
       "\t14 & 2024-06-23 17:10:00 & 2 & 1 \\\\\n",
       "\t15 & 2024-06-23 17:20:00 & 2 & 2 \\\\\n",
       "\t16 & 2024-06-23 17:30:00 & 2 & 2 \\\\\n",
       "\t17 & 2024-06-23 17:40:00 & 2 & 3 \\\\\n",
       "\t18 & 2024-06-23 17:50:00 & 3 & 3 \\\\\n",
       "\t19 & 2024-06-23 18:00:00 & 3 & 3 \\\\\n",
       "\t20 & 2024-06-23 18:10:00 & 3 & 3 \\\\\n",
       "\t21 & 2024-06-23 18:20:00 & 3 & 3 \\\\\n",
       "\t22 & 2024-06-23 18:30:00 & 3 & 3 \\\\\n",
       "\t23 & 2024-06-23 18:40:00 & 4 & 3 \\\\\n",
       "\t24 & 2024-06-23 18:50:00 & 3 & 3 \\\\\n",
       "\t$\\dots$ & $\\dots$ & $\\dots$ & $\\dots$ \\\\\n",
       "\\end{tabular}\n"
      ],
      "text/plain": [
       "\u001b[1m432×3 DataFrame\u001b[0m\n",
       "\u001b[1m Row \u001b[0m│\u001b[1m DateTime            \u001b[0m\u001b[1m LRAPA-Amazon Park A \u001b[0m\u001b[1m LRAPA-Amazon Park B \u001b[0m\n",
       "     │\u001b[90m String31            \u001b[0m\u001b[90m Int64               \u001b[0m\u001b[90m Int64               \u001b[0m\n",
       "─────┼───────────────────────────────────────────────────────────────\n",
       "   1 │ 2024-06-23 15:00:00                    4                    5\n",
       "   2 │ 2024-06-23 15:10:00                    3                    4\n",
       "   3 │ 2024-06-23 15:20:00                    3                    4\n",
       "   4 │ 2024-06-23 15:30:00                    3                    3\n",
       "   5 │ 2024-06-23 15:40:00                    1                    2\n",
       "   6 │ 2024-06-23 15:50:00                    1                    1\n",
       "   7 │ 2024-06-23 16:00:00                    2                    2\n",
       "   8 │ 2024-06-23 16:10:00                    1                    2\n",
       "  ⋮  │          ⋮                    ⋮                    ⋮\n",
       " 426 │ 2024-06-26 13:50:00                    0                    1\n",
       " 427 │ 2024-06-26 14:00:00                    0                    0\n",
       " 428 │ 2024-06-26 14:10:00                    0                    0\n",
       " 429 │ 2024-06-26 14:20:00                    0                    1\n",
       " 430 │ 2024-06-26 14:30:00                    1                    1\n",
       " 431 │ 2024-06-26 14:40:00                    1                    1\n",
       " 432 │ 2024-06-26 14:50:00                    1                    1\n",
       "\u001b[36m                                                     417 rows omitted\u001b[0m"
      ]
     },
     "metadata": {},
     "output_type": "display_data"
    }
   ],
   "source": [
    "data=data[!,[1,3,4]]"
   ]
  },
  {
   "cell_type": "code",
   "execution_count": 54,
   "metadata": {},
   "outputs": [
    {
     "data": {
      "text/html": [
       "<div><div style = \"float: left;\"><span>432×3 DataFrame</span></div><div style = \"float: right;\"><span style = \"font-style: italic;\">407 rows omitted</span></div><div style = \"clear: both;\"></div></div><div class = \"data-frame\" style = \"overflow-x: scroll;\"><table class = \"data-frame\" style = \"margin-bottom: 6px;\"><thead><tr class = \"header\"><th class = \"rowNumber\" style = \"font-weight: bold; text-align: right;\">Row</th><th style = \"text-align: left;\">LRAPA-Amazon Park A</th><th style = \"text-align: left;\">LRAPA-Amazon Park B</th><th style = \"text-align: left;\">LRAPA-Amazon Park A_LRAPA-Amazon Park B_function</th></tr><tr class = \"subheader headerLastRow\"><th class = \"rowNumber\" style = \"font-weight: bold; text-align: right;\"></th><th title = \"Int64\" style = \"text-align: left;\">Int64</th><th title = \"Int64\" style = \"text-align: left;\">Int64</th><th title = \"Float64\" style = \"text-align: left;\">Float64</th></tr></thead><tbody><tr><td class = \"rowNumber\" style = \"font-weight: bold; text-align: right;\">1</td><td style = \"text-align: right;\">4</td><td style = \"text-align: right;\">5</td><td style = \"text-align: right;\">4.5</td></tr><tr><td class = \"rowNumber\" style = \"font-weight: bold; text-align: right;\">2</td><td style = \"text-align: right;\">3</td><td style = \"text-align: right;\">4</td><td style = \"text-align: right;\">3.5</td></tr><tr><td class = \"rowNumber\" style = \"font-weight: bold; text-align: right;\">3</td><td style = \"text-align: right;\">3</td><td style = \"text-align: right;\">4</td><td style = \"text-align: right;\">3.5</td></tr><tr><td class = \"rowNumber\" style = \"font-weight: bold; text-align: right;\">4</td><td style = \"text-align: right;\">3</td><td style = \"text-align: right;\">3</td><td style = \"text-align: right;\">3.0</td></tr><tr><td class = \"rowNumber\" style = \"font-weight: bold; text-align: right;\">5</td><td style = \"text-align: right;\">1</td><td style = \"text-align: right;\">2</td><td style = \"text-align: right;\">1.5</td></tr><tr><td class = \"rowNumber\" style = \"font-weight: bold; text-align: right;\">6</td><td style = \"text-align: right;\">1</td><td style = \"text-align: right;\">1</td><td style = \"text-align: right;\">1.0</td></tr><tr><td class = \"rowNumber\" style = \"font-weight: bold; text-align: right;\">7</td><td style = \"text-align: right;\">2</td><td style = \"text-align: right;\">2</td><td style = \"text-align: right;\">2.0</td></tr><tr><td class = \"rowNumber\" style = \"font-weight: bold; text-align: right;\">8</td><td style = \"text-align: right;\">1</td><td style = \"text-align: right;\">2</td><td style = \"text-align: right;\">1.5</td></tr><tr><td class = \"rowNumber\" style = \"font-weight: bold; text-align: right;\">9</td><td style = \"text-align: right;\">1</td><td style = \"text-align: right;\">1</td><td style = \"text-align: right;\">1.0</td></tr><tr><td class = \"rowNumber\" style = \"font-weight: bold; text-align: right;\">10</td><td style = \"text-align: right;\">1</td><td style = \"text-align: right;\">1</td><td style = \"text-align: right;\">1.0</td></tr><tr><td class = \"rowNumber\" style = \"font-weight: bold; text-align: right;\">11</td><td style = \"text-align: right;\">1</td><td style = \"text-align: right;\">1</td><td style = \"text-align: right;\">1.0</td></tr><tr><td class = \"rowNumber\" style = \"font-weight: bold; text-align: right;\">12</td><td style = \"text-align: right;\">1</td><td style = \"text-align: right;\">1</td><td style = \"text-align: right;\">1.0</td></tr><tr><td class = \"rowNumber\" style = \"font-weight: bold; text-align: right;\">13</td><td style = \"text-align: right;\">1</td><td style = \"text-align: right;\">1</td><td style = \"text-align: right;\">1.0</td></tr><tr><td style = \"text-align: right;\">&vellip;</td><td style = \"text-align: right;\">&vellip;</td><td style = \"text-align: right;\">&vellip;</td><td style = \"text-align: right;\">&vellip;</td></tr><tr><td class = \"rowNumber\" style = \"font-weight: bold; text-align: right;\">421</td><td style = \"text-align: right;\">1</td><td style = \"text-align: right;\">2</td><td style = \"text-align: right;\">1.5</td></tr><tr><td class = \"rowNumber\" style = \"font-weight: bold; text-align: right;\">422</td><td style = \"text-align: right;\">0</td><td style = \"text-align: right;\">0</td><td style = \"text-align: right;\">0.0</td></tr><tr><td class = \"rowNumber\" style = \"font-weight: bold; text-align: right;\">423</td><td style = \"text-align: right;\">1</td><td style = \"text-align: right;\">0</td><td style = \"text-align: right;\">0.5</td></tr><tr><td class = \"rowNumber\" style = \"font-weight: bold; text-align: right;\">424</td><td style = \"text-align: right;\">0</td><td style = \"text-align: right;\">0</td><td style = \"text-align: right;\">0.0</td></tr><tr><td class = \"rowNumber\" style = \"font-weight: bold; text-align: right;\">425</td><td style = \"text-align: right;\">0</td><td style = \"text-align: right;\">1</td><td style = \"text-align: right;\">0.5</td></tr><tr><td class = \"rowNumber\" style = \"font-weight: bold; text-align: right;\">426</td><td style = \"text-align: right;\">0</td><td style = \"text-align: right;\">1</td><td style = \"text-align: right;\">0.5</td></tr><tr><td class = \"rowNumber\" style = \"font-weight: bold; text-align: right;\">427</td><td style = \"text-align: right;\">0</td><td style = \"text-align: right;\">0</td><td style = \"text-align: right;\">0.0</td></tr><tr><td class = \"rowNumber\" style = \"font-weight: bold; text-align: right;\">428</td><td style = \"text-align: right;\">0</td><td style = \"text-align: right;\">0</td><td style = \"text-align: right;\">0.0</td></tr><tr><td class = \"rowNumber\" style = \"font-weight: bold; text-align: right;\">429</td><td style = \"text-align: right;\">0</td><td style = \"text-align: right;\">1</td><td style = \"text-align: right;\">0.5</td></tr><tr><td class = \"rowNumber\" style = \"font-weight: bold; text-align: right;\">430</td><td style = \"text-align: right;\">1</td><td style = \"text-align: right;\">1</td><td style = \"text-align: right;\">1.0</td></tr><tr><td class = \"rowNumber\" style = \"font-weight: bold; text-align: right;\">431</td><td style = \"text-align: right;\">1</td><td style = \"text-align: right;\">1</td><td style = \"text-align: right;\">1.0</td></tr><tr><td class = \"rowNumber\" style = \"font-weight: bold; text-align: right;\">432</td><td style = \"text-align: right;\">1</td><td style = \"text-align: right;\">1</td><td style = \"text-align: right;\">1.0</td></tr></tbody></table></div>"
      ],
      "text/latex": [
       "\\begin{tabular}{r|ccc}\n",
       "\t& LRAPA-Amazon Park A & LRAPA-Amazon Park B & LRAPA-Amazon Park A\\_LRAPA-Amazon Park B\\_function\\\\\n",
       "\t\\hline\n",
       "\t& Int64 & Int64 & Float64\\\\\n",
       "\t\\hline\n",
       "\t1 & 4 & 5 & 4.5 \\\\\n",
       "\t2 & 3 & 4 & 3.5 \\\\\n",
       "\t3 & 3 & 4 & 3.5 \\\\\n",
       "\t4 & 3 & 3 & 3.0 \\\\\n",
       "\t5 & 1 & 2 & 1.5 \\\\\n",
       "\t6 & 1 & 1 & 1.0 \\\\\n",
       "\t7 & 2 & 2 & 2.0 \\\\\n",
       "\t8 & 1 & 2 & 1.5 \\\\\n",
       "\t9 & 1 & 1 & 1.0 \\\\\n",
       "\t10 & 1 & 1 & 1.0 \\\\\n",
       "\t11 & 1 & 1 & 1.0 \\\\\n",
       "\t12 & 1 & 1 & 1.0 \\\\\n",
       "\t13 & 1 & 1 & 1.0 \\\\\n",
       "\t14 & 2 & 1 & 1.5 \\\\\n",
       "\t15 & 2 & 2 & 2.0 \\\\\n",
       "\t16 & 2 & 2 & 2.0 \\\\\n",
       "\t17 & 2 & 3 & 2.5 \\\\\n",
       "\t18 & 3 & 3 & 3.0 \\\\\n",
       "\t19 & 3 & 3 & 3.0 \\\\\n",
       "\t20 & 3 & 3 & 3.0 \\\\\n",
       "\t21 & 3 & 3 & 3.0 \\\\\n",
       "\t22 & 3 & 3 & 3.0 \\\\\n",
       "\t23 & 4 & 3 & 3.5 \\\\\n",
       "\t24 & 3 & 3 & 3.0 \\\\\n",
       "\t$\\dots$ & $\\dots$ & $\\dots$ & $\\dots$ \\\\\n",
       "\\end{tabular}\n"
      ],
      "text/plain": [
       "\u001b[1m432×3 DataFrame\u001b[0m\n",
       "\u001b[1m Row \u001b[0m│\u001b[1m LRAPA-Amazon Park A \u001b[0m\u001b[1m LRAPA-Amazon Park B \u001b[0m\u001b[1m LRAPA-Amazon Park A_LRAPA-Ama\u001b[0m ⋯\n",
       "     │\u001b[90m Int64               \u001b[0m\u001b[90m Int64               \u001b[0m\u001b[90m Float64                      \u001b[0m ⋯\n",
       "─────┼──────────────────────────────────────────────────────────────────────────\n",
       "   1 │                   4                    5                                ⋯\n",
       "   2 │                   3                    4\n",
       "   3 │                   3                    4\n",
       "   4 │                   3                    3\n",
       "   5 │                   1                    2                                ⋯\n",
       "   6 │                   1                    1\n",
       "   7 │                   2                    2\n",
       "   8 │                   1                    2\n",
       "  ⋮  │          ⋮                    ⋮                                  ⋮      ⋱\n",
       " 426 │                   0                    1                                ⋯\n",
       " 427 │                   0                    0\n",
       " 428 │                   0                    0\n",
       " 429 │                   0                    1\n",
       " 430 │                   1                    1                                ⋯\n",
       " 431 │                   1                    1\n",
       " 432 │                   1                    1\n",
       "\u001b[36m                                                   1 column and 417 rows omitted\u001b[0m"
      ]
     },
     "metadata": {},
     "output_type": "display_data"
    }
   ],
   "source": [
    "using Statistics\n",
    "data2=select(data, [2,3],\n",
    " AsTable([2,3]) => x\n",
    "  -> (data[:,2]+data[:,3])/2)"
   ]
  },
  {
   "cell_type": "code",
   "execution_count": 55,
   "metadata": {},
   "outputs": [
    {
     "data": {
      "text/html": [
       "<div><div style = \"float: left;\"><span>432×1 DataFrame</span></div><div style = \"float: right;\"><span style = \"font-style: italic;\">407 rows omitted</span></div><div style = \"clear: both;\"></div></div><div class = \"data-frame\" style = \"overflow-x: scroll;\"><table class = \"data-frame\" style = \"margin-bottom: 6px;\"><thead><tr class = \"header\"><th class = \"rowNumber\" style = \"font-weight: bold; text-align: right;\">Row</th><th style = \"text-align: left;\">a</th></tr><tr class = \"subheader headerLastRow\"><th class = \"rowNumber\" style = \"font-weight: bold; text-align: right;\"></th><th title = \"Float64\" style = \"text-align: left;\">Float64</th></tr></thead><tbody><tr><td class = \"rowNumber\" style = \"font-weight: bold; text-align: right;\">1</td><td style = \"text-align: right;\">4.5</td></tr><tr><td class = \"rowNumber\" style = \"font-weight: bold; text-align: right;\">2</td><td style = \"text-align: right;\">3.5</td></tr><tr><td class = \"rowNumber\" style = \"font-weight: bold; text-align: right;\">3</td><td style = \"text-align: right;\">3.5</td></tr><tr><td class = \"rowNumber\" style = \"font-weight: bold; text-align: right;\">4</td><td style = \"text-align: right;\">3.0</td></tr><tr><td class = \"rowNumber\" style = \"font-weight: bold; text-align: right;\">5</td><td style = \"text-align: right;\">1.5</td></tr><tr><td class = \"rowNumber\" style = \"font-weight: bold; text-align: right;\">6</td><td style = \"text-align: right;\">1.0</td></tr><tr><td class = \"rowNumber\" style = \"font-weight: bold; text-align: right;\">7</td><td style = \"text-align: right;\">2.0</td></tr><tr><td class = \"rowNumber\" style = \"font-weight: bold; text-align: right;\">8</td><td style = \"text-align: right;\">1.5</td></tr><tr><td class = \"rowNumber\" style = \"font-weight: bold; text-align: right;\">9</td><td style = \"text-align: right;\">1.0</td></tr><tr><td class = \"rowNumber\" style = \"font-weight: bold; text-align: right;\">10</td><td style = \"text-align: right;\">1.0</td></tr><tr><td class = \"rowNumber\" style = \"font-weight: bold; text-align: right;\">11</td><td style = \"text-align: right;\">1.0</td></tr><tr><td class = \"rowNumber\" style = \"font-weight: bold; text-align: right;\">12</td><td style = \"text-align: right;\">1.0</td></tr><tr><td class = \"rowNumber\" style = \"font-weight: bold; text-align: right;\">13</td><td style = \"text-align: right;\">1.0</td></tr><tr><td style = \"text-align: right;\">&vellip;</td><td style = \"text-align: right;\">&vellip;</td></tr><tr><td class = \"rowNumber\" style = \"font-weight: bold; text-align: right;\">421</td><td style = \"text-align: right;\">1.5</td></tr><tr><td class = \"rowNumber\" style = \"font-weight: bold; text-align: right;\">422</td><td style = \"text-align: right;\">0.0</td></tr><tr><td class = \"rowNumber\" style = \"font-weight: bold; text-align: right;\">423</td><td style = \"text-align: right;\">0.5</td></tr><tr><td class = \"rowNumber\" style = \"font-weight: bold; text-align: right;\">424</td><td style = \"text-align: right;\">0.0</td></tr><tr><td class = \"rowNumber\" style = \"font-weight: bold; text-align: right;\">425</td><td style = \"text-align: right;\">0.5</td></tr><tr><td class = \"rowNumber\" style = \"font-weight: bold; text-align: right;\">426</td><td style = \"text-align: right;\">0.5</td></tr><tr><td class = \"rowNumber\" style = \"font-weight: bold; text-align: right;\">427</td><td style = \"text-align: right;\">0.0</td></tr><tr><td class = \"rowNumber\" style = \"font-weight: bold; text-align: right;\">428</td><td style = \"text-align: right;\">0.0</td></tr><tr><td class = \"rowNumber\" style = \"font-weight: bold; text-align: right;\">429</td><td style = \"text-align: right;\">0.5</td></tr><tr><td class = \"rowNumber\" style = \"font-weight: bold; text-align: right;\">430</td><td style = \"text-align: right;\">1.0</td></tr><tr><td class = \"rowNumber\" style = \"font-weight: bold; text-align: right;\">431</td><td style = \"text-align: right;\">1.0</td></tr><tr><td class = \"rowNumber\" style = \"font-weight: bold; text-align: right;\">432</td><td style = \"text-align: right;\">1.0</td></tr></tbody></table></div>"
      ],
      "text/latex": [
       "\\begin{tabular}{r|c}\n",
       "\t& a\\\\\n",
       "\t\\hline\n",
       "\t& Float64\\\\\n",
       "\t\\hline\n",
       "\t1 & 4.5 \\\\\n",
       "\t2 & 3.5 \\\\\n",
       "\t3 & 3.5 \\\\\n",
       "\t4 & 3.0 \\\\\n",
       "\t5 & 1.5 \\\\\n",
       "\t6 & 1.0 \\\\\n",
       "\t7 & 2.0 \\\\\n",
       "\t8 & 1.5 \\\\\n",
       "\t9 & 1.0 \\\\\n",
       "\t10 & 1.0 \\\\\n",
       "\t11 & 1.0 \\\\\n",
       "\t12 & 1.0 \\\\\n",
       "\t13 & 1.0 \\\\\n",
       "\t14 & 1.5 \\\\\n",
       "\t15 & 2.0 \\\\\n",
       "\t16 & 2.0 \\\\\n",
       "\t17 & 2.5 \\\\\n",
       "\t18 & 3.0 \\\\\n",
       "\t19 & 3.0 \\\\\n",
       "\t20 & 3.0 \\\\\n",
       "\t21 & 3.0 \\\\\n",
       "\t22 & 3.0 \\\\\n",
       "\t23 & 3.5 \\\\\n",
       "\t24 & 3.0 \\\\\n",
       "\t$\\dots$ & $\\dots$ \\\\\n",
       "\\end{tabular}\n"
      ],
      "text/plain": [
       "\u001b[1m432×1 DataFrame\u001b[0m\n",
       "\u001b[1m Row \u001b[0m│\u001b[1m a       \u001b[0m\n",
       "     │\u001b[90m Float64 \u001b[0m\n",
       "─────┼─────────\n",
       "   1 │     4.5\n",
       "   2 │     3.5\n",
       "   3 │     3.5\n",
       "   4 │     3.0\n",
       "   5 │     1.5\n",
       "   6 │     1.0\n",
       "   7 │     2.0\n",
       "   8 │     1.5\n",
       "  ⋮  │    ⋮\n",
       " 426 │     0.5\n",
       " 427 │     0.0\n",
       " 428 │     0.0\n",
       " 429 │     0.5\n",
       " 430 │     1.0\n",
       " 431 │     1.0\n",
       " 432 │     1.0\n",
       "\u001b[36m417 rows omitted\u001b[0m"
      ]
     },
     "metadata": {},
     "output_type": "display_data"
    }
   ],
   "source": [
    "tar_data=select(data2, Not(1,2))\n",
    "tar_data=rename!(tar_data,[:a])"
   ]
  },
  {
   "cell_type": "code",
   "execution_count": 56,
   "metadata": {},
   "outputs": [
    {
     "data": {
      "text/plain": [
       "432-element Vector{Float32}:\n",
       " 4.5\n",
       " 3.5\n",
       " 3.5\n",
       " 3.0\n",
       " 1.5\n",
       " 1.0\n",
       " 2.0\n",
       " 1.5\n",
       " 1.0\n",
       " 1.0\n",
       " ⋮\n",
       " 0.0\n",
       " 0.5\n",
       " 0.5\n",
       " 0.0\n",
       " 0.0\n",
       " 0.5\n",
       " 1.0\n",
       " 1.0\n",
       " 1.0"
      ]
     },
     "metadata": {},
     "output_type": "display_data"
    }
   ],
   "source": [
    "tar_vector=Vector{Float32}(tar_data[:,:a])"
   ]
  },
  {
   "cell_type": "code",
   "execution_count": 57,
   "metadata": {},
   "outputs": [],
   "source": [
    "using Flux"
   ]
  },
  {
   "cell_type": "code",
   "execution_count": 58,
   "metadata": {},
   "outputs": [
    {
     "data": {
      "text/plain": [
       "(Float32[4.5 3.5 … 0.5 1.5; 3.5 3.5 … 1.5 0.0; … ; 1.5 1.0 … 0.0 0.5; 1.0 2.0 … 0.5 0.5], Float32[1.0 1.0 … 1.0 1.0])"
      ]
     },
     "metadata": {},
     "output_type": "display_data"
    }
   ],
   "source": [
    "function create_sequences(data, input_steps,output_steps)\n",
    "    X, y = [], []\n",
    "    for i in 1:(length(data) - input_steps - output_steps + 1)\n",
    "        push!(X, data[i:i+input_steps-1])\n",
    "        push!(y, data[i+input_steps+output_steps-1])\n",
    "    end\n",
    "    return hcat(X...), hcat(y...)\n",
    "end\n",
    "\n",
    "input_steps = 6\n",
    "output_steps=6\n",
    "X, y = create_sequences(tar_vector, input_steps,output_steps)"
   ]
  },
  {
   "cell_type": "code",
   "execution_count": 97,
   "metadata": {},
   "outputs": [
    {
     "data": {
      "text/plain": [
       "Adam(0.01, (0.9, 0.999), 1.0e-8, IdDict{Any, Any}())"
      ]
     },
     "metadata": {},
     "output_type": "display_data"
    }
   ],
   "source": [
    "model = Chain(\n",
    "    LSTM(input_steps, 50),\n",
    "    LSTM(50,50),\n",
    "    Dense(50, output_steps)\n",
    ")\n",
    "\n",
    "# Initialize the parameters\n",
    "ps = Flux.params(model)\n",
    "\n",
    "# Define the loss function and the optimizer\n",
    "loss(x, y) = mean((model(x).-y).^2)\n",
    "opt = ADAM(1e-2)"
   ]
  },
  {
   "cell_type": "code",
   "execution_count": 60,
   "metadata": {},
   "outputs": [
    {
     "data": {
      "text/plain": [
       "6×421 Matrix{Float32}:\n",
       " 4.5  3.5  3.5  3.0  1.5  1.0  2.0  1.5  …  1.0  1.0  1.0  0.5  0.5  0.5  1.5\n",
       " 3.5  3.5  3.0  1.5  1.0  2.0  1.5  1.0     1.0  1.0  0.5  0.5  0.5  1.5  0.0\n",
       " 3.5  3.0  1.5  1.0  2.0  1.5  1.0  1.0     1.0  0.5  0.5  0.5  1.5  0.0  0.5\n",
       " 3.0  1.5  1.0  2.0  1.5  1.0  1.0  1.0     0.5  0.5  0.5  1.5  0.0  0.5  0.0\n",
       " 1.5  1.0  2.0  1.5  1.0  1.0  1.0  1.0     0.5  0.5  1.5  0.0  0.5  0.0  0.5\n",
       " 1.0  2.0  1.5  1.0  1.0  1.0  1.0  1.0  …  0.5  1.5  0.0  0.5  0.0  0.5  0.5"
      ]
     },
     "metadata": {},
     "output_type": "display_data"
    }
   ],
   "source": [
    "X"
   ]
  },
  {
   "cell_type": "code",
   "execution_count": 61,
   "metadata": {},
   "outputs": [
    {
     "data": {
      "text/plain": [
       "6×6 Matrix{Float32}:\n",
       " 4.5  3.5  3.5  3.0  1.5  1.0\n",
       " 3.5  3.5  3.0  1.5  1.0  2.0\n",
       " 3.5  3.0  1.5  1.0  2.0  1.5\n",
       " 3.0  1.5  1.0  2.0  1.5  1.0\n",
       " 1.5  1.0  2.0  1.5  1.0  1.0\n",
       " 1.0  2.0  1.5  1.0  1.0  1.0"
      ]
     },
     "metadata": {},
     "output_type": "display_data"
    }
   ],
   "source": [
    "x_batch=X[:,1:input_steps]"
   ]
  },
  {
   "cell_type": "code",
   "execution_count": 81,
   "metadata": {},
   "outputs": [
    {
     "data": {
      "text/plain": [
       "6×6 Matrix{Float32}:\n",
       " 1.90435  1.71006  1.60161  1.80004  1.87406  1.94905\n",
       " 1.82884  1.88424  1.7738   2.0752   2.22365  2.41\n",
       " 2.16899  2.28565  2.20465  2.49005  2.70198  2.89326\n",
       " 2.68151  2.63101  2.5735   2.78235  2.86877  2.95961\n",
       " 2.2437   2.62071  2.58997  2.87787  3.03336  3.29272\n",
       " 2.89387  2.9646   2.82495  3.02049  3.04363  3.21858"
      ]
     },
     "metadata": {},
     "output_type": "display_data"
    }
   ],
   "source": [
    "model(x_batch)"
   ]
  },
  {
   "cell_type": "code",
   "execution_count": 62,
   "metadata": {},
   "outputs": [
    {
     "data": {
      "text/plain": [
       "1×6 Matrix{Float64}:\n",
       " 0.00777909  0.178744  0.686556  0.913666  0.751438  0.757254"
      ]
     },
     "metadata": {},
     "output_type": "display_data"
    }
   ],
   "source": [
    "z=rand(6,50)\n",
    "s=rand(50,3)\n",
    "t=rand(1,6)"
   ]
  },
  {
   "cell_type": "code",
   "execution_count": 28,
   "metadata": {},
   "outputs": [
    {
     "data": {
      "text/plain": [
       "1×3 Matrix{Float64}:\n",
       " 45.3126  37.0539  42.1938"
      ]
     },
     "metadata": {},
     "output_type": "display_data"
    }
   ],
   "source": [
    "w=t*z*s"
   ]
  },
  {
   "cell_type": "code",
   "execution_count": 101,
   "metadata": {},
   "outputs": [
    {
     "name": "stdout",
     "output_type": "stream",
     "text": [
      "Epoch: 100, Loss: 0.7592733\n",
      "Epoch: 200, Loss: 1.0477438\n",
      "Epoch: 300, Loss: 0.713708\n",
      "Epoch: 400, Loss: 0.95464665\n",
      "Epoch: 500, Loss: 1.09761\n",
      "Epoch: 600, Loss: 1.1352005\n",
      "Epoch: 700, Loss: 0.38879716\n",
      "Epoch: 800, Loss: 0.38634282\n",
      "Epoch: 900, Loss: 0.39003393\n",
      "Epoch: 1000, Loss: 0.4333071\n"
     ]
    }
   ],
   "source": [
    "\n",
    "ps=Flux.params(model)\n",
    "batch_size=1\n",
    "for epoch in 1:1000\n",
    "    for i in 1:batch_size:(size(X, 1) - batch_size)\n",
    "        x_batch = X[:,i:i+input_steps-1]\n",
    "        y_batch = y[i:i+input_steps-1]\n",
    "       \n",
    "        gs = Flux.gradient(ps) do\n",
    "            loss(x_batch, y_batch)\n",
    "        end\n",
    "\n",
    "        Flux.update!(opt, ps, gs)\n",
    "    end\n",
    "    if epoch%100==0\n",
    "        println(\"Epoch: $epoch, Loss: $(loss(x_batch, y_batch))\")\n",
    "    end\n",
    "end"
   ]
  },
  {
   "cell_type": "code",
   "execution_count": 83,
   "metadata": {},
   "outputs": [
    {
     "data": {
      "text/plain": [
       "6×5 Matrix{Float32}:\n",
       " 1.0  0.5  0.5  0.5  1.5\n",
       " 0.5  0.5  0.5  1.5  0.0\n",
       " 0.5  0.5  1.5  0.0  0.5\n",
       " 0.5  1.5  0.0  0.5  0.0\n",
       " 1.5  0.0  0.5  0.0  0.5\n",
       " 0.0  0.5  0.0  0.5  0.5"
      ]
     },
     "metadata": {},
     "output_type": "display_data"
    }
   ],
   "source": [
    "seq=X[:,end-input_steps+1:end]\n",
    "seq[:,2:end]\n",
    "#pred=model(seq)[end,:]"
   ]
  },
  {
   "cell_type": "code",
   "execution_count": 99,
   "metadata": {},
   "outputs": [
    {
     "data": {
      "text/plain": [
       "6-element Vector{Float32}:\n",
       " 3.0882113\n",
       " 2.820107\n",
       " 3.0172832\n",
       " 3.0074987\n",
       " 2.7602558\n",
       " 2.9256613"
      ]
     },
     "metadata": {},
     "output_type": "display_data"
    }
   ],
   "source": [
    "function predict(model, data, input_steps, output_steps)\n",
    "    seq = data[:,end-input_steps:end-1]\n",
    "    preds = []\n",
    "    for _ in 1:output_steps\n",
    "        pred = model(seq)\n",
    "        push!(preds, pred)\n",
    "        seq = hcat(seq[:,2:end], pred[:,end])\n",
    "        \n",
    "    end\n",
    "    return preds\n",
    "end\n",
    "\n",
    "predictions = predict(model, X, input_steps, output_steps)\n",
    "predictions=predictions[end][end,:]"
   ]
  },
  {
   "cell_type": "code",
   "execution_count": 10,
   "metadata": {},
   "outputs": [
    {
     "ename": "UndefVarError",
     "evalue": "UndefVarError: `DataLoader` not defined",
     "output_type": "error",
     "traceback": [
      "UndefVarError: `DataLoader` not defined\n",
      "\n",
      "Stacktrace:\n",
      " [1] top-level scope\n",
      "   @ ~/Documents/RNN/LSTM_Forecasting.ipynb:2"
     ]
    }
   ],
   "source": [
    "epochs = 1000\n",
    "batch_size = seq_length\n",
    "\n",
    "for epoch in 1:epochs\n",
    "    \n",
    "    for i in 1:batch_size:(size(X, 1) - batch_size)\n",
    "        x_batch = X[i:i+batch_size-1, :]\n",
    "        y_batch = y[i:i+batch_size-1]\n",
    "       \n",
    "        gs = Flux.gradient(ps) do\n",
    "            loss(x_batch, y_batch)\n",
    "        end\n",
    "\n",
    "        Flux.update!(opt, ps, gs)\n",
    "    end\n",
    "    #println(\"Epoch $epoch: Loss = $(loss(X', y))\")\n",
    "end"
   ]
  },
  {
   "cell_type": "code",
   "execution_count": 28,
   "metadata": {},
   "outputs": [
    {
     "data": {
      "text/plain": [
       "predict (generic function with 1 method)"
      ]
     },
     "metadata": {},
     "output_type": "display_data"
    }
   ],
   "source": [
    "function predict(model, data, seq_length, num_predictions)\n",
    "    input = data[end-seq_length+1:end,:]\n",
    "    pred = model(input)\n",
    "\n",
    "\n",
    "    return pred\n",
    "end"
   ]
  },
  {
   "cell_type": "code",
   "execution_count": 29,
   "metadata": {},
   "outputs": [
    {
     "data": {
      "text/plain": [
       "6×1 Matrix{Float32}:\n",
       " 5.0401287\n",
       " 4.0886536\n",
       " 4.0433884\n",
       " 5.907667\n",
       " 6.952976\n",
       " 4.0357056"
      ]
     },
     "metadata": {},
     "output_type": "display_data"
    }
   ],
   "source": [
    "\n",
    "num_predictions = 6\n",
    "predictions = predict(model, X, seq_length, num_predictions)\n",
    "Float32.(predictions')"
   ]
  },
  {
   "cell_type": "code",
   "execution_count": 78,
   "metadata": {},
   "outputs": [],
   "source": [
    "using Dates\n",
    "typeof(data.\"DateTime\")\n",
    "format = \"yyyy-mm-dd HH:MM:SS\"\n",
    "dt=DateTime.(data.\"DateTime\",format);"
   ]
  },
  {
   "cell_type": "code",
   "execution_count": 79,
   "metadata": {},
   "outputs": [],
   "source": [
    "last_dt=dt[end]\n",
    "for i in 1:output_steps\n",
    "    last_dt+=Minute(10)\n",
    "    push!(dt,last_dt)\n",
    "end"
   ]
  },
  {
   "cell_type": "code",
   "execution_count": 102,
   "metadata": {},
   "outputs": [
    {
     "data": {
      "image/png": "[encoded data removed]",
      "image/svg+xml": [
       "<?xml version=\"1.0\" encoding=\"utf-8\"?>\n",
       "<svg xmlns=\"http://www.w3.org/2000/svg\" xmlns:xlink=\"http://www.w3.org/1999/xlink\" width=\"600\" height=\"400\" viewBox=\"0 0 2400 1600\">\n",
       "<defs>\n",
       "  <clipPath id=\"clip100\">\n",
       "    <rect x=\"0\" y=\"0\" width=\"2400\" height=\"1600\"/>\n",
       "  </clipPath>\n",
       "</defs>\n",
       "<path clip-path=\"url(#clip100)\" d=\"M0 1600 L2400 1600 L2400 8.88178e-14 L0 8.88178e-14  Z\" fill=\"#ffffff\" fill-rule=\"evenodd\" fill-opacity=\"1\"/>\n",
       "<defs>\n",
       "  <clipPath id=\"clip101\">\n",
       "    <rect x=\"480\" y=\"0\" width=\"1681\" height=\"1600\"/>\n",
       "  </clipPath>\n",
       "</defs>\n",
       "<path clip-path=\"url(#clip100)\" d=\"M141.853 1486.45 L2352.76 1486.45 L2352.76 47.2441 L141.853 47.2441  Z\" fill=\"#ffffff\" fill-rule=\"evenodd\" fill-opacity=\"1\"/>\n",
       "<defs>\n",
       "  <clipPath id=\"clip102\">\n",
       "    <rect x=\"141\" y=\"47\" width=\"2212\" height=\"1440\"/>\n",
       "  </clipPath>\n",
       "</defs>\n",
       "<polyline clip-path=\"url(#clip102)\" style=\"stroke:#000000; stroke-linecap:round; stroke-linejoin:round; stroke-width:2; stroke-opacity:0.1; fill:none\" points=\"462.162,1486.45 462.162,47.2441 \"/>\n",
       "<polyline clip-path=\"url(#clip102)\" style=\"stroke:#000000; stroke-linecap:round; stroke-linejoin:round; stroke-width:2; stroke-opacity:0.1; fill:none\" points=\"1149.46,1486.45 1149.46,47.2441 \"/>\n",
       "<polyline clip-path=\"url(#clip102)\" style=\"stroke:#000000; stroke-linecap:round; stroke-linejoin:round; stroke-width:2; stroke-opacity:0.1; fill:none\" points=\"1836.76,1486.45 1836.76,47.2441 \"/>\n",
       "<polyline clip-path=\"url(#clip100)\" style=\"stroke:#000000; stroke-linecap:round; stroke-linejoin:round; stroke-width:4; stroke-opacity:1; fill:none\" points=\"141.853,1486.45 2352.76,1486.45 \"/>\n",
       "<polyline clip-path=\"url(#clip100)\" style=\"stroke:#000000; stroke-linecap:round; stroke-linejoin:round; stroke-width:4; stroke-opacity:1; fill:none\" points=\"462.162,1486.45 462.162,1467.55 \"/>\n",
       "<polyline clip-path=\"url(#clip100)\" style=\"stroke:#000000; stroke-linecap:round; stroke-linejoin:round; stroke-width:4; stroke-opacity:1; fill:none\" points=\"1149.46,1486.45 1149.46,1467.55 \"/>\n",
       "<polyline clip-path=\"url(#clip100)\" style=\"stroke:#000000; stroke-linecap:round; stroke-linejoin:round; stroke-width:4; stroke-opacity:1; fill:none\" points=\"1836.76,1486.45 1836.76,1467.55 \"/>\n",
       "<path clip-path=\"url(#clip100)\" d=\"M333.1 1544.91 L349.42 1544.91 L349.42 1548.85 L327.476 1548.85 L327.476 1544.91 Q330.138 1542.16 334.721 1537.53 Q339.327 1532.88 340.508 1531.53 Q342.753 1529.01 343.633 1527.27 Q344.536 1525.51 344.536 1523.82 Q344.536 1521.07 342.591 1519.33 Q340.67 1517.6 337.568 1517.6 Q335.369 1517.6 332.915 1518.36 Q330.485 1519.13 327.707 1520.68 L327.707 1515.95 Q330.531 1514.82 332.985 1514.24 Q335.438 1513.66 337.475 1513.66 Q342.846 1513.66 346.04 1516.35 Q349.235 1519.03 349.235 1523.52 Q349.235 1525.65 348.424 1527.57 Q347.637 1529.47 345.531 1532.07 Q344.952 1532.74 341.85 1535.95 Q338.749 1539.15 333.1 1544.91 Z\" fill=\"#000000\" fill-rule=\"nonzero\" fill-opacity=\"1\" /><path clip-path=\"url(#clip100)\" d=\"M369.235 1517.37 Q365.623 1517.37 363.795 1520.93 Q361.989 1524.47 361.989 1531.6 Q361.989 1538.71 363.795 1542.27 Q365.623 1545.82 369.235 1545.82 Q372.869 1545.82 374.674 1542.27 Q376.503 1538.71 376.503 1531.6 Q376.503 1524.47 374.674 1520.93 Q372.869 1517.37 369.235 1517.37 M369.235 1513.66 Q375.045 1513.66 378.1 1518.27 Q381.179 1522.85 381.179 1531.6 Q381.179 1540.33 378.1 1544.94 Q375.045 1549.52 369.235 1549.52 Q363.424 1549.52 360.346 1544.94 Q357.29 1540.33 357.29 1531.6 Q357.29 1522.85 360.346 1518.27 Q363.424 1513.66 369.235 1513.66 Z\" fill=\"#000000\" fill-rule=\"nonzero\" fill-opacity=\"1\" /><path clip-path=\"url(#clip100)\" d=\"M393.424 1544.91 L409.744 1544.91 L409.744 1548.85 L387.799 1548.85 L387.799 1544.91 Q390.461 1542.16 395.045 1537.53 Q399.651 1532.88 400.832 1531.53 Q403.077 1529.01 403.957 1527.27 Q404.859 1525.51 404.859 1523.82 Q404.859 1521.07 402.915 1519.33 Q400.994 1517.6 397.892 1517.6 Q395.693 1517.6 393.239 1518.36 Q390.809 1519.13 388.031 1520.68 L388.031 1515.95 Q390.855 1514.82 393.308 1514.24 Q395.762 1513.66 397.799 1513.66 Q403.17 1513.66 406.364 1516.35 Q409.558 1519.03 409.558 1523.52 Q409.558 1525.65 408.748 1527.57 Q407.961 1529.47 405.855 1532.07 Q405.276 1532.74 402.174 1535.95 Q399.072 1539.15 393.424 1544.91 Z\" fill=\"#000000\" fill-rule=\"nonzero\" fill-opacity=\"1\" /><path clip-path=\"url(#clip100)\" d=\"M432.406 1518.36 L420.6 1536.81 L432.406 1536.81 L432.406 1518.36 M431.179 1514.29 L437.058 1514.29 L437.058 1536.81 L441.989 1536.81 L441.989 1540.7 L437.058 1540.7 L437.058 1548.85 L432.406 1548.85 L432.406 1540.7 L416.804 1540.7 L416.804 1536.19 L431.179 1514.29 Z\" fill=\"#000000\" fill-rule=\"nonzero\" fill-opacity=\"1\" /><path clip-path=\"url(#clip100)\" d=\"M446.966 1533.96 L459.442 1533.96 L459.442 1537.76 L446.966 1537.76 L446.966 1533.96 Z\" fill=\"#000000\" fill-rule=\"nonzero\" fill-opacity=\"1\" /><path clip-path=\"url(#clip100)\" d=\"M476.827 1517.37 Q473.215 1517.37 471.387 1520.93 Q469.581 1524.47 469.581 1531.6 Q469.581 1538.71 471.387 1542.27 Q473.215 1545.82 476.827 1545.82 Q480.461 1545.82 482.266 1542.27 Q484.095 1538.71 484.095 1531.6 Q484.095 1524.47 482.266 1520.93 Q480.461 1517.37 476.827 1517.37 M476.827 1513.66 Q482.637 1513.66 485.692 1518.27 Q488.771 1522.85 488.771 1531.6 Q488.771 1540.33 485.692 1544.94 Q482.637 1549.52 476.827 1549.52 Q471.016 1549.52 467.938 1544.94 Q464.882 1540.33 464.882 1531.6 Q464.882 1522.85 467.938 1518.27 Q471.016 1513.66 476.827 1513.66 Z\" fill=\"#000000\" fill-rule=\"nonzero\" fill-opacity=\"1\" /><path clip-path=\"url(#clip100)\" d=\"M507.567 1529.7 Q504.419 1529.7 502.567 1531.86 Q500.738 1534.01 500.738 1537.76 Q500.738 1541.49 502.567 1543.66 Q504.419 1545.82 507.567 1545.82 Q510.715 1545.82 512.544 1543.66 Q514.396 1541.49 514.396 1537.76 Q514.396 1534.01 512.544 1531.86 Q510.715 1529.7 507.567 1529.7 M516.85 1515.05 L516.85 1519.31 Q515.09 1518.48 513.285 1518.04 Q511.502 1517.6 509.743 1517.6 Q505.113 1517.6 502.66 1520.72 Q500.229 1523.85 499.882 1530.17 Q501.248 1528.15 503.308 1527.09 Q505.368 1526 507.845 1526 Q513.053 1526 516.062 1529.17 Q519.095 1532.32 519.095 1537.76 Q519.095 1543.08 515.947 1546.3 Q512.799 1549.52 507.567 1549.52 Q501.572 1549.52 498.401 1544.94 Q495.229 1540.33 495.229 1531.6 Q495.229 1523.41 499.118 1518.55 Q503.007 1513.66 509.558 1513.66 Q511.317 1513.66 513.1 1514.01 Q514.905 1514.36 516.85 1515.05 Z\" fill=\"#000000\" fill-rule=\"nonzero\" fill-opacity=\"1\" /><path clip-path=\"url(#clip100)\" d=\"M524.396 1533.96 L536.873 1533.96 L536.873 1537.76 L524.396 1537.76 L524.396 1533.96 Z\" fill=\"#000000\" fill-rule=\"nonzero\" fill-opacity=\"1\" /><path clip-path=\"url(#clip100)\" d=\"M548.285 1544.91 L564.604 1544.91 L564.604 1548.85 L542.66 1548.85 L542.66 1544.91 Q545.322 1542.16 549.905 1537.53 Q554.511 1532.88 555.692 1531.53 Q557.937 1529.01 558.817 1527.27 Q559.72 1525.51 559.72 1523.82 Q559.72 1521.07 557.775 1519.33 Q555.854 1517.6 552.752 1517.6 Q550.553 1517.6 548.099 1518.36 Q545.669 1519.13 542.891 1520.68 L542.891 1515.95 Q545.715 1514.82 548.169 1514.24 Q550.622 1513.66 552.659 1513.66 Q558.03 1513.66 561.224 1516.35 Q564.419 1519.03 564.419 1523.52 Q564.419 1525.65 563.609 1527.57 Q562.821 1529.47 560.715 1532.07 Q560.136 1532.74 557.034 1535.95 Q553.933 1539.15 548.285 1544.91 Z\" fill=\"#000000\" fill-rule=\"nonzero\" fill-opacity=\"1\" /><path clip-path=\"url(#clip100)\" d=\"M587.266 1518.36 L575.46 1536.81 L587.266 1536.81 L587.266 1518.36 M586.039 1514.29 L591.919 1514.29 L591.919 1536.81 L596.849 1536.81 L596.849 1540.7 L591.919 1540.7 L591.919 1548.85 L587.266 1548.85 L587.266 1540.7 L571.664 1540.7 L571.664 1536.19 L586.039 1514.29 Z\" fill=\"#000000\" fill-rule=\"nonzero\" fill-opacity=\"1\" /><path clip-path=\"url(#clip100)\" d=\"M1021.14 1544.91 L1037.46 1544.91 L1037.46 1548.85 L1015.51 1548.85 L1015.51 1544.91 Q1018.18 1542.16 1022.76 1537.53 Q1027.37 1532.88 1028.55 1531.53 Q1030.79 1529.01 1031.67 1527.27 Q1032.57 1525.51 1032.57 1523.82 Q1032.57 1521.07 1030.63 1519.33 Q1028.71 1517.6 1025.61 1517.6 Q1023.41 1517.6 1020.95 1518.36 Q1018.52 1519.13 1015.75 1520.68 L1015.75 1515.95 Q1018.57 1514.82 1021.02 1514.24 Q1023.48 1513.66 1025.51 1513.66 Q1030.88 1513.66 1034.08 1516.35 Q1037.27 1519.03 1037.27 1523.52 Q1037.27 1525.65 1036.46 1527.57 Q1035.68 1529.47 1033.57 1532.07 Q1032.99 1532.74 1029.89 1535.95 Q1026.79 1539.15 1021.14 1544.91 Z\" fill=\"#000000\" fill-rule=\"nonzero\" fill-opacity=\"1\" /><path clip-path=\"url(#clip100)\" d=\"M1057.27 1517.37 Q1053.66 1517.37 1051.83 1520.93 Q1050.03 1524.47 1050.03 1531.6 Q1050.03 1538.71 1051.83 1542.27 Q1053.66 1545.82 1057.27 1545.82 Q1060.91 1545.82 1062.71 1542.27 Q1064.54 1538.71 1064.54 1531.6 Q1064.54 1524.47 1062.71 1520.93 Q1060.91 1517.37 1057.27 1517.37 M1057.27 1513.66 Q1063.08 1513.66 1066.14 1518.27 Q1069.22 1522.85 1069.22 1531.6 Q1069.22 1540.33 1066.14 1544.94 Q1063.08 1549.52 1057.27 1549.52 Q1051.46 1549.52 1048.38 1544.94 Q1045.33 1540.33 1045.33 1531.6 Q1045.33 1522.85 1048.38 1518.27 Q1051.46 1513.66 1057.27 1513.66 Z\" fill=\"#000000\" fill-rule=\"nonzero\" fill-opacity=\"1\" /><path clip-path=\"url(#clip100)\" d=\"M1081.46 1544.91 L1097.78 1544.91 L1097.78 1548.85 L1075.84 1548.85 L1075.84 1544.91 Q1078.5 1542.16 1083.08 1537.53 Q1087.69 1532.88 1088.87 1531.53 Q1091.12 1529.01 1091.99 1527.27 Q1092.9 1525.51 1092.9 1523.82 Q1092.9 1521.07 1090.95 1519.33 Q1089.03 1517.6 1085.93 1517.6 Q1083.73 1517.6 1081.28 1518.36 Q1078.85 1519.13 1076.07 1520.68 L1076.07 1515.95 Q1078.89 1514.82 1081.35 1514.24 Q1083.8 1513.66 1085.84 1513.66 Q1091.21 1513.66 1094.4 1516.35 Q1097.6 1519.03 1097.6 1523.52 Q1097.6 1525.65 1096.79 1527.57 Q1096 1529.47 1093.89 1532.07 Q1093.31 1532.74 1090.21 1535.95 Q1087.11 1539.15 1081.46 1544.91 Z\" fill=\"#000000\" fill-rule=\"nonzero\" fill-opacity=\"1\" /><path clip-path=\"url(#clip100)\" d=\"M1120.44 1518.36 L1108.64 1536.81 L1120.44 1536.81 L1120.44 1518.36 M1119.22 1514.29 L1125.1 1514.29 L1125.1 1536.81 L1130.03 1536.81 L1130.03 1540.7 L1125.1 1540.7 L1125.1 1548.85 L1120.44 1548.85 L1120.44 1540.7 L1104.84 1540.7 L1104.84 1536.19 L1119.22 1514.29 Z\" fill=\"#000000\" fill-rule=\"nonzero\" fill-opacity=\"1\" /><path clip-path=\"url(#clip100)\" d=\"M1135 1533.96 L1147.48 1533.96 L1147.48 1537.76 L1135 1537.76 L1135 1533.96 Z\" fill=\"#000000\" fill-rule=\"nonzero\" fill-opacity=\"1\" /><path clip-path=\"url(#clip100)\" d=\"M1164.86 1517.37 Q1161.25 1517.37 1159.43 1520.93 Q1157.62 1524.47 1157.62 1531.6 Q1157.62 1538.71 1159.43 1542.27 Q1161.25 1545.82 1164.86 1545.82 Q1168.5 1545.82 1170.3 1542.27 Q1172.13 1538.71 1172.13 1531.6 Q1172.13 1524.47 1170.3 1520.93 Q1168.5 1517.37 1164.86 1517.37 M1164.86 1513.66 Q1170.68 1513.66 1173.73 1518.27 Q1176.81 1522.85 1176.81 1531.6 Q1176.81 1540.33 1173.73 1544.94 Q1170.68 1549.52 1164.86 1549.52 Q1159.05 1549.52 1155.98 1544.94 Q1152.92 1540.33 1152.92 1531.6 Q1152.92 1522.85 1155.98 1518.27 Q1159.05 1513.66 1164.86 1513.66 Z\" fill=\"#000000\" fill-rule=\"nonzero\" fill-opacity=\"1\" /><path clip-path=\"url(#clip100)\" d=\"M1195.61 1529.7 Q1192.46 1529.7 1190.61 1531.86 Q1188.78 1534.01 1188.78 1537.76 Q1188.78 1541.49 1190.61 1543.66 Q1192.46 1545.82 1195.61 1545.82 Q1198.75 1545.82 1200.58 1543.66 Q1202.43 1541.49 1202.43 1537.76 Q1202.43 1534.01 1200.58 1531.86 Q1198.75 1529.7 1195.61 1529.7 M1204.89 1515.05 L1204.89 1519.31 Q1203.13 1518.48 1201.32 1518.04 Q1199.54 1517.6 1197.78 1517.6 Q1193.15 1517.6 1190.7 1520.72 Q1188.27 1523.85 1187.92 1530.17 Q1189.29 1528.15 1191.35 1527.09 Q1193.41 1526 1195.88 1526 Q1201.09 1526 1204.1 1529.17 Q1207.13 1532.32 1207.13 1537.76 Q1207.13 1543.08 1203.99 1546.3 Q1200.84 1549.52 1195.61 1549.52 Q1189.61 1549.52 1186.44 1544.94 Q1183.27 1540.33 1183.27 1531.6 Q1183.27 1523.41 1187.16 1518.55 Q1191.05 1513.66 1197.6 1513.66 Q1199.36 1513.66 1201.14 1514.01 Q1202.94 1514.36 1204.89 1515.05 Z\" fill=\"#000000\" fill-rule=\"nonzero\" fill-opacity=\"1\" /><path clip-path=\"url(#clip100)\" d=\"M1212.43 1533.96 L1224.91 1533.96 L1224.91 1537.76 L1212.43 1537.76 L1212.43 1533.96 Z\" fill=\"#000000\" fill-rule=\"nonzero\" fill-opacity=\"1\" /><path clip-path=\"url(#clip100)\" d=\"M1236.32 1544.91 L1252.64 1544.91 L1252.64 1548.85 L1230.7 1548.85 L1230.7 1544.91 Q1233.36 1542.16 1237.94 1537.53 Q1242.55 1532.88 1243.73 1531.53 Q1245.98 1529.01 1246.86 1527.27 Q1247.76 1525.51 1247.76 1523.82 Q1247.76 1521.07 1245.81 1519.33 Q1243.89 1517.6 1240.79 1517.6 Q1238.59 1517.6 1236.14 1518.36 Q1233.71 1519.13 1230.93 1520.68 L1230.93 1515.95 Q1233.75 1514.82 1236.21 1514.24 Q1238.66 1513.66 1240.7 1513.66 Q1246.07 1513.66 1249.26 1516.35 Q1252.46 1519.03 1252.46 1523.52 Q1252.46 1525.65 1251.65 1527.57 Q1250.86 1529.47 1248.75 1532.07 Q1248.17 1532.74 1245.07 1535.95 Q1241.97 1539.15 1236.32 1544.91 Z\" fill=\"#000000\" fill-rule=\"nonzero\" fill-opacity=\"1\" /><path clip-path=\"url(#clip100)\" d=\"M1262.5 1514.29 L1280.86 1514.29 L1280.86 1518.22 L1266.79 1518.22 L1266.79 1526.7 Q1267.8 1526.35 1268.82 1526.19 Q1269.84 1526 1270.86 1526 Q1276.65 1526 1280.03 1529.17 Q1283.41 1532.34 1283.41 1537.76 Q1283.41 1543.34 1279.93 1546.44 Q1276.46 1549.52 1270.14 1549.52 Q1267.97 1549.52 1265.7 1549.15 Q1263.45 1548.78 1261.05 1548.04 L1261.05 1543.34 Q1263.13 1544.47 1265.35 1545.03 Q1267.57 1545.58 1270.05 1545.58 Q1274.05 1545.58 1276.39 1543.48 Q1278.73 1541.37 1278.73 1537.76 Q1278.73 1534.15 1276.39 1532.04 Q1274.05 1529.94 1270.05 1529.94 Q1268.17 1529.94 1266.3 1530.35 Q1264.45 1530.77 1262.5 1531.65 L1262.5 1514.29 Z\" fill=\"#000000\" fill-rule=\"nonzero\" fill-opacity=\"1\" /><path clip-path=\"url(#clip100)\" d=\"M1707.86 1544.91 L1724.18 1544.91 L1724.18 1548.85 L1702.23 1548.85 L1702.23 1544.91 Q1704.89 1542.16 1709.48 1537.53 Q1714.08 1532.88 1715.27 1531.53 Q1717.51 1529.01 1718.39 1527.27 Q1719.29 1525.51 1719.29 1523.82 Q1719.29 1521.07 1717.35 1519.33 Q1715.43 1517.6 1712.33 1517.6 Q1710.13 1517.6 1707.67 1518.36 Q1705.24 1519.13 1702.46 1520.68 L1702.46 1515.95 Q1705.29 1514.82 1707.74 1514.24 Q1710.2 1513.66 1712.23 1513.66 Q1717.6 1513.66 1720.8 1516.35 Q1723.99 1519.03 1723.99 1523.52 Q1723.99 1525.65 1723.18 1527.57 Q1722.39 1529.47 1720.29 1532.07 Q1719.71 1532.74 1716.61 1535.95 Q1713.51 1539.15 1707.86 1544.91 Z\" fill=\"#000000\" fill-rule=\"nonzero\" fill-opacity=\"1\" /><path clip-path=\"url(#clip100)\" d=\"M1743.99 1517.37 Q1740.38 1517.37 1738.55 1520.93 Q1736.75 1524.47 1736.75 1531.6 Q1736.75 1538.71 1738.55 1542.27 Q1740.38 1545.82 1743.99 1545.82 Q1747.63 1545.82 1749.43 1542.27 Q1751.26 1538.71 1751.26 1531.6 Q1751.26 1524.47 1749.43 1520.93 Q1747.63 1517.37 1743.99 1517.37 M1743.99 1513.66 Q1749.8 1513.66 1752.86 1518.27 Q1755.94 1522.85 1755.94 1531.6 Q1755.94 1540.33 1752.86 1544.94 Q1749.8 1549.52 1743.99 1549.52 Q1738.18 1549.52 1735.1 1544.94 Q1732.05 1540.33 1732.05 1531.6 Q1732.05 1522.85 1735.1 1518.27 Q1738.18 1513.66 1743.99 1513.66 Z\" fill=\"#000000\" fill-rule=\"nonzero\" fill-opacity=\"1\" /><path clip-path=\"url(#clip100)\" d=\"M1768.18 1544.91 L1784.5 1544.91 L1784.5 1548.85 L1762.56 1548.85 L1762.56 1544.91 Q1765.22 1542.16 1769.8 1537.53 Q1774.41 1532.88 1775.59 1531.53 Q1777.83 1529.01 1778.71 1527.27 Q1779.62 1525.51 1779.62 1523.82 Q1779.62 1521.07 1777.67 1519.33 Q1775.75 1517.6 1772.65 1517.6 Q1770.45 1517.6 1768 1518.36 Q1765.57 1519.13 1762.79 1520.68 L1762.79 1515.95 Q1765.61 1514.82 1768.07 1514.24 Q1770.52 1513.66 1772.56 1513.66 Q1777.93 1513.66 1781.12 1516.35 Q1784.32 1519.03 1784.32 1523.52 Q1784.32 1525.65 1783.51 1527.57 Q1782.72 1529.47 1780.61 1532.07 Q1780.03 1532.74 1776.93 1535.95 Q1773.83 1539.15 1768.18 1544.91 Z\" fill=\"#000000\" fill-rule=\"nonzero\" fill-opacity=\"1\" /><path clip-path=\"url(#clip100)\" d=\"M1807.16 1518.36 L1795.36 1536.81 L1807.16 1536.81 L1807.16 1518.36 M1805.94 1514.29 L1811.82 1514.29 L1811.82 1536.81 L1816.75 1536.81 L1816.75 1540.7 L1811.82 1540.7 L1811.82 1548.85 L1807.16 1548.85 L1807.16 1540.7 L1791.56 1540.7 L1791.56 1536.19 L1805.94 1514.29 Z\" fill=\"#000000\" fill-rule=\"nonzero\" fill-opacity=\"1\" /><path clip-path=\"url(#clip100)\" d=\"M1821.72 1533.96 L1834.2 1533.96 L1834.2 1537.76 L1821.72 1537.76 L1821.72 1533.96 Z\" fill=\"#000000\" fill-rule=\"nonzero\" fill-opacity=\"1\" /><path clip-path=\"url(#clip100)\" d=\"M1851.58 1517.37 Q1847.97 1517.37 1846.14 1520.93 Q1844.34 1524.47 1844.34 1531.6 Q1844.34 1538.71 1846.14 1542.27 Q1847.97 1545.82 1851.58 1545.82 Q1855.22 1545.82 1857.02 1542.27 Q1858.85 1538.71 1858.85 1531.6 Q1858.85 1524.47 1857.02 1520.93 Q1855.22 1517.37 1851.58 1517.37 M1851.58 1513.66 Q1857.39 1513.66 1860.45 1518.27 Q1863.53 1522.85 1863.53 1531.6 Q1863.53 1540.33 1860.45 1544.94 Q1857.39 1549.52 1851.58 1549.52 Q1845.77 1549.52 1842.7 1544.94 Q1839.64 1540.33 1839.64 1531.6 Q1839.64 1522.85 1842.7 1518.27 Q1845.77 1513.66 1851.58 1513.66 Z\" fill=\"#000000\" fill-rule=\"nonzero\" fill-opacity=\"1\" /><path clip-path=\"url(#clip100)\" d=\"M1882.32 1529.7 Q1879.18 1529.7 1877.32 1531.86 Q1875.5 1534.01 1875.5 1537.76 Q1875.5 1541.49 1877.32 1543.66 Q1879.18 1545.82 1882.32 1545.82 Q1885.47 1545.82 1887.3 1543.66 Q1889.15 1541.49 1889.15 1537.76 Q1889.15 1534.01 1887.3 1531.86 Q1885.47 1529.7 1882.32 1529.7 M1891.61 1515.05 L1891.61 1519.31 Q1889.85 1518.48 1888.04 1518.04 Q1886.26 1517.6 1884.5 1517.6 Q1879.87 1517.6 1877.42 1520.72 Q1874.99 1523.85 1874.64 1530.17 Q1876.01 1528.15 1878.07 1527.09 Q1880.13 1526 1882.6 1526 Q1887.81 1526 1890.82 1529.17 Q1893.85 1532.32 1893.85 1537.76 Q1893.85 1543.08 1890.7 1546.3 Q1887.56 1549.52 1882.32 1549.52 Q1876.33 1549.52 1873.16 1544.94 Q1869.99 1540.33 1869.99 1531.6 Q1869.99 1523.41 1873.88 1518.55 Q1877.76 1513.66 1884.32 1513.66 Q1886.07 1513.66 1887.86 1514.01 Q1889.66 1514.36 1891.61 1515.05 Z\" fill=\"#000000\" fill-rule=\"nonzero\" fill-opacity=\"1\" /><path clip-path=\"url(#clip100)\" d=\"M1899.15 1533.96 L1911.63 1533.96 L1911.63 1537.76 L1899.15 1537.76 L1899.15 1533.96 Z\" fill=\"#000000\" fill-rule=\"nonzero\" fill-opacity=\"1\" /><path clip-path=\"url(#clip100)\" d=\"M1923.04 1544.91 L1939.36 1544.91 L1939.36 1548.85 L1917.42 1548.85 L1917.42 1544.91 Q1920.08 1542.16 1924.66 1537.53 Q1929.27 1532.88 1930.45 1531.53 Q1932.69 1529.01 1933.57 1527.27 Q1934.48 1525.51 1934.48 1523.82 Q1934.48 1521.07 1932.53 1519.33 Q1930.61 1517.6 1927.51 1517.6 Q1925.31 1517.6 1922.86 1518.36 Q1920.43 1519.13 1917.65 1520.68 L1917.65 1515.95 Q1920.47 1514.82 1922.93 1514.24 Q1925.38 1513.66 1927.42 1513.66 Q1932.79 1513.66 1935.98 1516.35 Q1939.18 1519.03 1939.18 1523.52 Q1939.18 1525.65 1938.37 1527.57 Q1937.58 1529.47 1935.47 1532.07 Q1934.89 1532.74 1931.79 1535.95 Q1928.69 1539.15 1923.04 1544.91 Z\" fill=\"#000000\" fill-rule=\"nonzero\" fill-opacity=\"1\" /><path clip-path=\"url(#clip100)\" d=\"M1959.75 1529.7 Q1956.61 1529.7 1954.75 1531.86 Q1952.93 1534.01 1952.93 1537.76 Q1952.93 1541.49 1954.75 1543.66 Q1956.61 1545.82 1959.75 1545.82 Q1962.9 1545.82 1964.73 1543.66 Q1966.58 1541.49 1966.58 1537.76 Q1966.58 1534.01 1964.73 1531.86 Q1962.9 1529.7 1959.75 1529.7 M1969.04 1515.05 L1969.04 1519.31 Q1967.28 1518.48 1965.47 1518.04 Q1963.69 1517.6 1961.93 1517.6 Q1957.3 1517.6 1954.85 1520.72 Q1952.42 1523.85 1952.07 1530.17 Q1953.44 1528.15 1955.5 1527.09 Q1957.56 1526 1960.03 1526 Q1965.24 1526 1968.25 1529.17 Q1971.28 1532.32 1971.28 1537.76 Q1971.28 1543.08 1968.13 1546.3 Q1964.99 1549.52 1959.75 1549.52 Q1953.76 1549.52 1950.59 1544.94 Q1947.42 1540.33 1947.42 1531.6 Q1947.42 1523.41 1951.31 1518.55 Q1955.19 1513.66 1961.75 1513.66 Q1963.5 1513.66 1965.29 1514.01 Q1967.09 1514.36 1969.04 1515.05 Z\" fill=\"#000000\" fill-rule=\"nonzero\" fill-opacity=\"1\" /><polyline clip-path=\"url(#clip102)\" style=\"stroke:#000000; stroke-linecap:round; stroke-linejoin:round; stroke-width:2; stroke-opacity:0.1; fill:none\" points=\"141.853,1486.45 2352.76,1486.45 \"/>\n",
       "<polyline clip-path=\"url(#clip102)\" style=\"stroke:#000000; stroke-linecap:round; stroke-linejoin:round; stroke-width:2; stroke-opacity:0.1; fill:none\" points=\"141.853,1246.58 2352.76,1246.58 \"/>\n",
       "<polyline clip-path=\"url(#clip102)\" style=\"stroke:#000000; stroke-linecap:round; stroke-linejoin:round; stroke-width:2; stroke-opacity:0.1; fill:none\" points=\"141.853,1006.71 2352.76,1006.71 \"/>\n",
       "<polyline clip-path=\"url(#clip102)\" style=\"stroke:#000000; stroke-linecap:round; stroke-linejoin:round; stroke-width:2; stroke-opacity:0.1; fill:none\" points=\"141.853,766.846 2352.76,766.846 \"/>\n",
       "<polyline clip-path=\"url(#clip102)\" style=\"stroke:#000000; stroke-linecap:round; stroke-linejoin:round; stroke-width:2; stroke-opacity:0.1; fill:none\" points=\"141.853,526.979 2352.76,526.979 \"/>\n",
       "<polyline clip-path=\"url(#clip102)\" style=\"stroke:#000000; stroke-linecap:round; stroke-linejoin:round; stroke-width:2; stroke-opacity:0.1; fill:none\" points=\"141.853,287.111 2352.76,287.111 \"/>\n",
       "<polyline clip-path=\"url(#clip102)\" style=\"stroke:#000000; stroke-linecap:round; stroke-linejoin:round; stroke-width:2; stroke-opacity:0.1; fill:none\" points=\"141.853,47.2441 2352.76,47.2441 \"/>\n",
       "<polyline clip-path=\"url(#clip100)\" style=\"stroke:#000000; stroke-linecap:round; stroke-linejoin:round; stroke-width:4; stroke-opacity:1; fill:none\" points=\"141.853,1486.45 141.853,47.2441 \"/>\n",
       "<polyline clip-path=\"url(#clip100)\" style=\"stroke:#000000; stroke-linecap:round; stroke-linejoin:round; stroke-width:4; stroke-opacity:1; fill:none\" points=\"141.853,1486.45 160.751,1486.45 \"/>\n",
       "<polyline clip-path=\"url(#clip100)\" style=\"stroke:#000000; stroke-linecap:round; stroke-linejoin:round; stroke-width:4; stroke-opacity:1; fill:none\" points=\"141.853,1246.58 160.751,1246.58 \"/>\n",
       "<polyline clip-path=\"url(#clip100)\" style=\"stroke:#000000; stroke-linecap:round; stroke-linejoin:round; stroke-width:4; stroke-opacity:1; fill:none\" points=\"141.853,1006.71 160.751,1006.71 \"/>\n",
       "<polyline clip-path=\"url(#clip100)\" style=\"stroke:#000000; stroke-linecap:round; stroke-linejoin:round; stroke-width:4; stroke-opacity:1; fill:none\" points=\"141.853,766.846 160.751,766.846 \"/>\n",
       "<polyline clip-path=\"url(#clip100)\" style=\"stroke:#000000; stroke-linecap:round; stroke-linejoin:round; stroke-width:4; stroke-opacity:1; fill:none\" points=\"141.853,526.979 160.751,526.979 \"/>\n",
       "<polyline clip-path=\"url(#clip100)\" style=\"stroke:#000000; stroke-linecap:round; stroke-linejoin:round; stroke-width:4; stroke-opacity:1; fill:none\" points=\"141.853,287.111 160.751,287.111 \"/>\n",
       "<polyline clip-path=\"url(#clip100)\" style=\"stroke:#000000; stroke-linecap:round; stroke-linejoin:round; stroke-width:4; stroke-opacity:1; fill:none\" points=\"141.853,47.2441 160.751,47.2441 \"/>\n",
       "<path clip-path=\"url(#clip100)\" d=\"M93.9086 1472.25 Q90.2975 1472.25 88.4688 1475.81 Q86.6632 1479.35 86.6632 1486.48 Q86.6632 1493.59 88.4688 1497.15 Q90.2975 1500.7 93.9086 1500.7 Q97.5428 1500.7 99.3483 1497.15 Q101.177 1493.59 101.177 1486.48 Q101.177 1479.35 99.3483 1475.81 Q97.5428 1472.25 93.9086 1472.25 M93.9086 1468.54 Q99.7187 1468.54 102.774 1473.15 Q105.853 1477.73 105.853 1486.48 Q105.853 1495.21 102.774 1499.82 Q99.7187 1504.4 93.9086 1504.4 Q88.0984 1504.4 85.0197 1499.82 Q81.9642 1495.21 81.9642 1486.48 Q81.9642 1477.73 85.0197 1473.15 Q88.0984 1468.54 93.9086 1468.54 Z\" fill=\"#000000\" fill-rule=\"nonzero\" fill-opacity=\"1\" /><path clip-path=\"url(#clip100)\" d=\"M54.5569 1259.93 L62.1958 1259.93 L62.1958 1233.56 L53.8856 1235.23 L53.8856 1230.97 L62.1495 1229.3 L66.8254 1229.3 L66.8254 1259.93 L74.4642 1259.93 L74.4642 1263.86 L54.5569 1263.86 L54.5569 1259.93 Z\" fill=\"#000000\" fill-rule=\"nonzero\" fill-opacity=\"1\" /><path clip-path=\"url(#clip100)\" d=\"M93.9086 1232.38 Q90.2975 1232.38 88.4688 1235.94 Q86.6632 1239.49 86.6632 1246.62 Q86.6632 1253.72 88.4688 1257.29 Q90.2975 1260.83 93.9086 1260.83 Q97.5428 1260.83 99.3483 1257.29 Q101.177 1253.72 101.177 1246.62 Q101.177 1239.49 99.3483 1235.94 Q97.5428 1232.38 93.9086 1232.38 M93.9086 1228.68 Q99.7187 1228.68 102.774 1233.28 Q105.853 1237.87 105.853 1246.62 Q105.853 1255.34 102.774 1259.95 Q99.7187 1264.53 93.9086 1264.53 Q88.0984 1264.53 85.0197 1259.95 Q81.9642 1255.34 81.9642 1246.62 Q81.9642 1237.87 85.0197 1233.28 Q88.0984 1228.68 93.9086 1228.68 Z\" fill=\"#000000\" fill-rule=\"nonzero\" fill-opacity=\"1\" /><path clip-path=\"url(#clip100)\" d=\"M57.7745 1020.06 L74.0939 1020.06 L74.0939 1023.99 L52.1495 1023.99 L52.1495 1020.06 Q54.8115 1017.3 59.3949 1012.67 Q64.0013 1008.02 65.1819 1006.68 Q67.4272 1004.16 68.3068 1002.42 Q69.2096 1000.66 69.2096 998.97 Q69.2096 996.216 67.2652 994.48 Q65.3439 992.743 62.2421 992.743 Q60.043 992.743 57.5893 993.507 Q55.1588 994.271 52.381 995.822 L52.381 991.1 Q55.2051 989.966 57.6588 989.387 Q60.1124 988.808 62.1495 988.808 Q67.5198 988.808 70.7142 991.493 Q73.9087 994.179 73.9087 998.669 Q73.9087 1000.8 73.0985 1002.72 Q72.3115 1004.62 70.205 1007.21 Q69.6263 1007.88 66.5245 1011.1 Q63.4226 1014.29 57.7745 1020.06 Z\" fill=\"#000000\" fill-rule=\"nonzero\" fill-opacity=\"1\" /><path clip-path=\"url(#clip100)\" d=\"M93.9086 992.512 Q90.2975 992.512 88.4688 996.077 Q86.6632 999.618 86.6632 1006.75 Q86.6632 1013.85 88.4688 1017.42 Q90.2975 1020.96 93.9086 1020.96 Q97.5428 1020.96 99.3483 1017.42 Q101.177 1013.85 101.177 1006.75 Q101.177 999.618 99.3483 996.077 Q97.5428 992.512 93.9086 992.512 M93.9086 988.808 Q99.7187 988.808 102.774 993.415 Q105.853 997.998 105.853 1006.75 Q105.853 1015.47 102.774 1020.08 Q99.7187 1024.66 93.9086 1024.66 Q88.0984 1024.66 85.0197 1020.08 Q81.9642 1015.47 81.9642 1006.75 Q81.9642 997.998 85.0197 993.415 Q88.0984 988.808 93.9086 988.808 Z\" fill=\"#000000\" fill-rule=\"nonzero\" fill-opacity=\"1\" /><path clip-path=\"url(#clip100)\" d=\"M67.9133 765.492 Q71.2698 766.209 73.1448 768.478 Q75.0429 770.746 75.0429 774.08 Q75.0429 779.195 71.5244 781.996 Q68.0059 784.797 61.5245 784.797 Q59.3486 784.797 57.0338 784.357 Q54.7421 783.941 52.2884 783.084 L52.2884 778.57 Q54.2328 779.705 56.5477 780.283 Q58.8625 780.862 61.3856 780.862 Q65.7837 780.862 68.0754 779.126 Q70.3902 777.39 70.3902 774.08 Q70.3902 771.024 68.2374 769.311 Q66.1078 767.575 62.2884 767.575 L58.2606 767.575 L58.2606 763.733 L62.4735 763.733 Q65.9226 763.733 67.7513 762.367 Q69.58 760.978 69.58 758.385 Q69.58 755.723 67.6819 754.311 Q65.8069 752.876 62.2884 752.876 Q60.3671 752.876 58.168 753.293 Q55.969 753.709 53.3301 754.589 L53.3301 750.422 Q55.9921 749.682 58.3069 749.311 Q60.6449 748.941 62.705 748.941 Q68.0291 748.941 71.1309 751.372 Q74.2327 753.779 74.2327 757.899 Q74.2327 760.77 72.5892 762.76 Q70.9457 764.728 67.9133 765.492 Z\" fill=\"#000000\" fill-rule=\"nonzero\" fill-opacity=\"1\" /><path clip-path=\"url(#clip100)\" d=\"M93.9086 752.645 Q90.2975 752.645 88.4688 756.209 Q86.6632 759.751 86.6632 766.881 Q86.6632 773.987 88.4688 777.552 Q90.2975 781.094 93.9086 781.094 Q97.5428 781.094 99.3483 777.552 Q101.177 773.987 101.177 766.881 Q101.177 759.751 99.3483 756.209 Q97.5428 752.645 93.9086 752.645 M93.9086 748.941 Q99.7187 748.941 102.774 753.547 Q105.853 758.131 105.853 766.881 Q105.853 775.608 102.774 780.214 Q99.7187 784.797 93.9086 784.797 Q88.0984 784.797 85.0197 780.214 Q81.9642 775.608 81.9642 766.881 Q81.9642 758.131 85.0197 753.547 Q88.0984 748.941 93.9086 748.941 Z\" fill=\"#000000\" fill-rule=\"nonzero\" fill-opacity=\"1\" /><path clip-path=\"url(#clip100)\" d=\"M66.5939 513.773 L54.7884 532.222 L66.5939 532.222 L66.5939 513.773 M65.367 509.699 L71.2466 509.699 L71.2466 532.222 L76.1772 532.222 L76.1772 536.111 L71.2466 536.111 L71.2466 544.259 L66.5939 544.259 L66.5939 536.111 L50.9921 536.111 L50.9921 531.597 L65.367 509.699 Z\" fill=\"#000000\" fill-rule=\"nonzero\" fill-opacity=\"1\" /><path clip-path=\"url(#clip100)\" d=\"M93.9086 512.777 Q90.2975 512.777 88.4688 516.342 Q86.6632 519.884 86.6632 527.013 Q86.6632 534.12 88.4688 537.685 Q90.2975 541.226 93.9086 541.226 Q97.5428 541.226 99.3483 537.685 Q101.177 534.12 101.177 527.013 Q101.177 519.884 99.3483 516.342 Q97.5428 512.777 93.9086 512.777 M93.9086 509.074 Q99.7187 509.074 102.774 513.68 Q105.853 518.263 105.853 527.013 Q105.853 535.74 102.774 540.347 Q99.7187 544.93 93.9086 544.93 Q88.0984 544.93 85.0197 540.347 Q81.9642 535.74 81.9642 527.013 Q81.9642 518.263 85.0197 513.68 Q88.0984 509.074 93.9086 509.074 Z\" fill=\"#000000\" fill-rule=\"nonzero\" fill-opacity=\"1\" /><path clip-path=\"url(#clip100)\" d=\"M53.793 269.831 L72.1494 269.831 L72.1494 273.767 L58.0754 273.767 L58.0754 282.239 Q59.0939 281.892 60.1124 281.729 Q61.131 281.544 62.1495 281.544 Q67.9365 281.544 71.3161 284.716 Q74.6957 287.887 74.6957 293.303 Q74.6957 298.882 71.2235 301.984 Q67.7513 305.063 61.4319 305.063 Q59.256 305.063 56.9875 304.692 Q54.7421 304.322 52.3347 303.581 L52.3347 298.882 Q54.418 300.016 56.6402 300.572 Q58.8625 301.128 61.3393 301.128 Q65.3439 301.128 67.6819 299.021 Q70.0198 296.915 70.0198 293.303 Q70.0198 289.692 67.6819 287.586 Q65.3439 285.479 61.3393 285.479 Q59.4643 285.479 57.5893 285.896 Q55.7375 286.313 53.793 287.192 L53.793 269.831 Z\" fill=\"#000000\" fill-rule=\"nonzero\" fill-opacity=\"1\" /><path clip-path=\"url(#clip100)\" d=\"M93.9086 272.91 Q90.2975 272.91 88.4688 276.475 Q86.6632 280.017 86.6632 287.146 Q86.6632 294.253 88.4688 297.817 Q90.2975 301.359 93.9086 301.359 Q97.5428 301.359 99.3483 297.817 Q101.177 294.253 101.177 287.146 Q101.177 280.017 99.3483 276.475 Q97.5428 272.91 93.9086 272.91 M93.9086 269.206 Q99.7187 269.206 102.774 273.813 Q105.853 278.396 105.853 287.146 Q105.853 295.873 102.774 300.479 Q99.7187 305.063 93.9086 305.063 Q88.0984 305.063 85.0197 300.479 Q81.9642 295.873 81.9642 287.146 Q81.9642 278.396 85.0197 273.813 Q88.0984 269.206 93.9086 269.206 Z\" fill=\"#000000\" fill-rule=\"nonzero\" fill-opacity=\"1\" /><path clip-path=\"url(#clip100)\" d=\"M64.3254 45.3807 Q61.1773 45.3807 59.3254 47.5334 Q57.4967 49.6862 57.4967 53.4362 Q57.4967 57.163 59.3254 59.3389 Q61.1773 61.4917 64.3254 61.4917 Q67.4735 61.4917 69.3022 59.3389 Q71.1541 57.163 71.1541 53.4362 Q71.1541 49.6862 69.3022 47.5334 Q67.4735 45.3807 64.3254 45.3807 M73.6077 30.728 L73.6077 34.9872 Q71.8485 34.1539 70.0429 33.7141 Q68.2606 33.2743 66.5013 33.2743 Q61.8717 33.2743 59.418 36.3992 Q56.9875 39.5242 56.6402 45.8436 Q58.006 43.8298 60.0662 42.765 Q62.1263 41.677 64.6032 41.677 Q69.8115 41.677 72.8207 44.8483 Q75.8531 47.9964 75.8531 53.4362 Q75.8531 58.7602 72.705 61.9778 Q69.5568 65.1954 64.3254 65.1954 Q58.33 65.1954 55.1588 60.6121 Q51.9875 56.0056 51.9875 47.2788 Q51.9875 39.0844 55.8764 34.2233 Q59.7652 29.3391 66.3161 29.3391 Q68.0754 29.3391 69.8578 29.6863 Q71.6633 30.0335 73.6077 30.728 Z\" fill=\"#000000\" fill-rule=\"nonzero\" fill-opacity=\"1\" /><path clip-path=\"url(#clip100)\" d=\"M93.9086 33.0428 Q90.2975 33.0428 88.4688 36.6076 Q86.6632 40.1492 86.6632 47.2788 Q86.6632 54.3853 88.4688 57.9501 Q90.2975 61.4917 93.9086 61.4917 Q97.5428 61.4917 99.3483 57.9501 Q101.177 54.3853 101.177 47.2788 Q101.177 40.1492 99.3483 36.6076 Q97.5428 33.0428 93.9086 33.0428 M93.9086 29.3391 Q99.7187 29.3391 102.774 33.9456 Q105.853 38.5289 105.853 47.2788 Q105.853 56.0056 102.774 60.6121 Q99.7187 65.1954 93.9086 65.1954 Q88.0984 65.1954 85.0197 60.6121 Q81.9642 56.0056 81.9642 47.2788 Q81.9642 38.5289 85.0197 33.9456 Q88.0984 29.3391 93.9086 29.3391 Z\" fill=\"#000000\" fill-rule=\"nonzero\" fill-opacity=\"1\" /><polyline clip-path=\"url(#clip102)\" style=\"stroke:#000000; stroke-linecap:round; stroke-linejoin:round; stroke-width:10; stroke-opacity:1; fill:none\" points=\"204.426,1378.51 209.199,1402.49 213.971,1402.49 218.744,1414.49 223.517,1450.47 228.29,1462.46 233.063,1438.47 237.836,1450.47 242.609,1462.46 247.382,1462.46 252.155,1462.46 256.928,1462.46 261.7,1462.46 266.473,1450.47 271.246,1438.47 276.019,1438.47 280.792,1426.48 285.565,1414.49 290.338,1414.49 295.111,1414.49 299.884,1414.49 304.657,1414.49 309.429,1402.49 314.202,1414.49 318.975,1414.49 323.748,1426.48 328.521,1438.47 333.294,1438.47 338.067,1426.48 342.84,1426.48 347.613,1438.47 352.386,1426.48 357.158,1450.47 361.931,1450.47 366.704,1462.46 371.477,1474.45 376.25,1462.46 381.023,1462.46 385.796,1462.46 390.569,1474.45 395.342,1462.46 400.115,1462.46 404.887,1462.46 409.66,1462.46 414.433,1462.46 419.206,1462.46 423.979,1474.45 428.752,1462.46 433.525,1438.47 438.298,1462.46 443.071,1462.46 447.844,1450.47 452.616,1426.48 457.389,1438.47 462.162,1426.48 466.935,1414.49 471.708,1426.48 476.481,1426.48 481.254,1450.47 486.027,1438.47 490.8,1426.48 495.573,1426.48 500.345,1414.49 505.118,1426.48 509.891,1426.48 514.664,1426.48 519.437,1438.47 524.21,1414.49 528.983,1426.48 533.756,1402.49 538.529,1414.49 543.302,1402.49 548.075,1402.49 552.847,1402.49 557.62,1414.49 562.393,1366.51 567.166,1390.5 571.939,1390.5 576.712,1378.51 581.485,1378.51 586.258,1378.51 591.031,1390.5 595.804,1402.49 600.576,1390.5 605.349,1390.5 610.122,1390.5 614.895,1354.52 619.668,1366.51 624.441,1354.52 629.214,1354.52 633.987,1342.53 638.76,1354.52 643.533,1330.53 648.305,1318.54 653.078,1318.54 657.851,1318.54 662.624,1342.53 667.397,1354.52 672.17,1378.51 676.943,1378.51 681.716,1366.51 686.489,1354.52 691.262,1330.53 696.034,1342.53 700.807,1330.53 705.58,1342.53 710.353,1318.54 715.126,1306.55 719.899,1306.55 724.672,1294.55 729.445,1330.53 734.218,1306.55 738.991,1354.52 743.763,1330.53 748.536,1318.54 753.309,1330.53 758.082,1330.53 762.855,1306.55 767.628,1294.55 772.401,1342.53 777.174,1306.55 781.947,1330.53 786.72,1306.55 791.492,1378.51 796.265,1378.51 801.038,1318.54 805.811,1366.51 810.584,1378.51 815.357,1366.51 820.13,1402.49 824.903,1390.5 829.676,1354.52 834.449,1390.5 839.221,1366.51 843.994,1378.51 848.767,1390.5 853.54,1390.5 858.313,1414.49 863.086,1414.49 867.859,1402.49 872.632,1402.49 877.405,1414.49 882.178,1426.48 886.95,1402.49 891.723,1414.49 896.496,1438.47 901.269,1426.48 906.042,1426.48 910.815,1438.47 915.588,1450.47 920.361,1438.47 925.134,1450.47 929.907,1450.47 934.679,1450.47 939.452,1462.46 944.225,1462.46 948.998,1462.46 953.771,1450.47 958.544,1462.46 963.317,1462.46 968.09,1450.47 972.863,1462.46 977.636,1462.46 982.408,1462.46 987.181,1462.46 991.954,1450.47 996.727,1450.47 1001.5,1450.47 1006.27,1438.47 1011.05,1462.46 1015.82,1450.47 1020.59,1438.47 1025.36,1426.48 1030.14,1450.47 1034.91,1438.47 1039.68,1426.48 1044.46,1438.47 1049.23,1414.49 1054,1402.49 1058.77,1414.49 1063.55,1402.49 1068.32,1402.49 1073.09,1402.49 1077.87,1390.5 1082.64,1342.53 1087.41,1354.52 1092.19,1330.53 1096.96,1342.53 1101.73,1294.55 1106.5,1270.57 1111.28,1246.58 1116.05,1234.59 1120.82,1210.6 1125.6,1138.64 1130.37,1006.71 1135.14,850.8 1139.91,826.813 1144.69,886.78 1149.46,946.746 1154.23,802.826 1159.01,874.786 1163.78,910.766 1168.55,1054.69 1173.32,1138.64 1178.1,1174.62 1182.87,1210.6 1187.64,1198.61 1192.42,1246.58 1197.19,1198.61 1201.96,1222.59 1206.73,1246.58 1211.51,1282.56 1216.28,1282.56 1221.05,1258.57 1225.83,1270.57 1230.6,1282.56 1235.37,1270.57 1240.15,1246.58 1244.92,1234.59 1249.69,1222.59 1254.46,1246.58 1259.24,1234.59 1264.01,1222.59 1268.78,1198.61 1273.56,1198.61 1278.33,1222.59 1283.1,1234.59 1287.87,1234.59 1292.65,1090.67 1297.42,1090.67 1302.19,1210.6 1306.97,1198.61 1311.74,1210.6 1316.51,1198.61 1321.28,1198.61 1326.06,1090.67 1330.83,670.899 1335.6,526.979 1340.38,634.919 1345.15,754.853 1349.92,814.819 1354.69,1006.71 1359.47,970.733 1364.24,814.819 1369.01,682.892 1373.79,790.833 1378.56,802.826 1383.33,826.813 1388.1,862.793 1392.88,934.753 1397.65,958.74 1402.42,994.72 1407.2,982.727 1411.97,1042.69 1416.74,1090.67 1421.52,1090.67 1426.29,1102.66 1431.06,1066.68 1435.83,1078.67 1440.61,1006.71 1445.38,1006.71 1450.15,1018.71 1454.93,994.72 1459.7,1006.71 1464.47,1030.7 1469.24,970.733 1474.02,1042.69 1478.79,1054.69 1483.56,1126.65 1488.34,1126.65 1493.11,1138.64 1497.88,1150.63 1502.65,1126.65 1507.43,1114.65 1512.2,1174.62 1516.97,1174.62 1521.75,1162.63 1526.52,1186.61 1531.29,1174.62 1536.06,1198.61 1540.84,1210.6 1545.61,1234.59 1550.38,1258.57 1555.16,1246.58 1559.93,1270.57 1564.7,1246.58 1569.48,1234.59 1574.25,1246.58 1579.02,1258.57 1583.79,1210.6 1588.57,1246.58 1593.34,1246.58 1598.11,1258.57 1602.89,1270.57 1607.66,1270.57 1612.43,1258.57 1617.2,1246.58 1621.98,1294.55 1626.75,1318.54 1631.52,1294.55 1636.3,1318.54 1641.07,1330.53 1645.84,1318.54 1650.61,1330.53 1655.39,1342.53 1660.16,1354.52 1664.93,1342.53 1669.71,1366.51 1674.48,1354.52 1679.25,1366.51 1684.02,1330.53 1688.8,1318.54 1693.57,1306.55 1698.34,1282.56 1703.12,1282.56 1707.89,1270.57 1712.66,1246.58 1717.44,1174.62 1722.21,1186.61 1726.98,1210.6 1731.75,1282.56 1736.53,1282.56 1741.3,1270.57 1746.07,1246.58 1750.85,1222.59 1755.62,1222.59 1760.39,1150.63 1765.16,1222.59 1769.94,1258.57 1774.71,1270.57 1779.48,1270.57 1784.26,1282.56 1789.03,1294.55 1793.8,1282.56 1798.57,1282.56 1803.35,1294.55 1808.12,1306.55 1812.89,1318.54 1817.67,1306.55 1822.44,1306.55 1827.21,1282.56 1831.98,1270.57 1836.76,1234.59 1841.53,1234.59 1846.3,1246.58 1851.08,1330.53 1855.85,1354.52 1860.62,1318.54 1865.4,1270.57 1870.17,1330.53 1874.94,1354.52 1879.71,1342.53 1884.49,1342.53 1889.26,1366.51 1894.03,1354.52 1898.81,1354.52 1903.58,1354.52 1908.35,1342.53 1913.12,1342.53 1917.9,1342.53 1922.67,1306.55 1927.44,1318.54 1932.22,1270.57 1936.99,1234.59 1941.76,1258.57 1946.53,1198.61 1951.31,1162.63 1956.08,1138.64 1960.85,1114.65 1965.63,1138.64 1970.4,1030.7 1975.17,1054.69 1979.94,1078.67 1984.72,1078.67 1989.49,1090.67 1994.26,1090.67 1999.04,1114.65 2003.81,1078.67 2008.58,1066.68 2013.35,1102.66 2018.13,1126.65 2022.9,1150.63 2027.67,1162.63 2032.45,1210.6 2037.22,1222.59 2041.99,1246.58 2046.77,1294.55 2051.54,1282.56 2056.31,1330.53 2061.08,1342.53 2065.86,1378.51 2070.63,1390.5 2075.4,1402.49 2080.18,1402.49 2084.95,1390.5 2089.72,1426.48 2094.49,1402.49 2099.27,1414.49 2104.04,1402.49 2108.81,1378.51 2113.59,1342.53 2118.36,1330.53 2123.13,1330.53 2127.9,1354.52 2132.68,1354.52 2137.45,1390.5 2142.22,1402.49 2147,1378.51 2151.77,1366.51 2156.54,1402.49 2161.31,1414.49 2166.09,1414.49 2170.86,1450.47 2175.63,1462.46 2180.41,1462.46 2185.18,1462.46 2189.95,1462.46 2194.73,1474.45 2199.5,1474.45 2204.27,1474.45 2209.04,1450.47 2213.82,1486.45 2218.59,1474.45 2223.36,1486.45 2228.14,1474.45 2232.91,1474.45 2237.68,1486.45 2242.45,1486.45 2247.23,1474.45 2252,1462.46 2256.77,1462.46 2261.55,1462.46 \"/>\n",
       "<polyline clip-path=\"url(#clip102)\" style=\"stroke:#e26f46; stroke-linecap:round; stroke-linejoin:round; stroke-width:10; stroke-opacity:1; fill:none\" points=\"2266.32,1412.37 2271.09,1418.8 2275.86,1414.07 2280.64,1414.31 2285.41,1420.24 2290.18,1416.27 \"/>\n",
       "<path clip-path=\"url(#clip102)\" d=\"M-2069.05 1486.45 L4563.66 1486.45 L4563.66 287.111 L-2069.05 287.111 L-2069.05 1486.45  Z\" fill=\"#008000\" fill-rule=\"evenodd\" fill-opacity=\"0.2\"/>\n",
       "<polyline clip-path=\"url(#clip102)\" style=\"stroke:#000000; stroke-linecap:round; stroke-linejoin:round; stroke-width:0; stroke-opacity:0.2; fill:none\" points=\"-2069.05,1486.45 4563.66,1486.45 4563.66,287.111 -2069.05,287.111 -2069.05,1486.45 \"/>\n",
       "<path clip-path=\"url(#clip102)\" d=\"M-2069.05 287.111 L4563.66 287.111 L4563.66 -912.225 L-2069.05 -912.225 L-2069.05 287.111  Z\" fill=\"#ffff00\" fill-rule=\"evenodd\" fill-opacity=\"0.2\"/>\n",
       "<polyline clip-path=\"url(#clip102)\" style=\"stroke:#000000; stroke-linecap:round; stroke-linejoin:round; stroke-width:0; stroke-opacity:0.2; fill:none\" points=\"-2069.05,287.111 4563.66,287.111 4563.66,-912.225 -2069.05,-912.225 -2069.05,287.111 \"/>\n",
       "</svg>\n"
      ],
      "text/html": [
       "<?xml version=\"1.0\" encoding=\"utf-8\"?>\n",
       "<svg xmlns=\"http://www.w3.org/2000/svg\" xmlns:xlink=\"http://www.w3.org/1999/xlink\" width=\"600\" height=\"400\" viewBox=\"0 0 2400 1600\">\n",
       "<defs>\n",
       "  <clipPath id=\"clip150\">\n",
       "    <rect x=\"0\" y=\"0\" width=\"2400\" height=\"1600\"/>\n",
       "  </clipPath>\n",
       "</defs>\n",
       "<path clip-path=\"url(#clip150)\" d=\"M0 1600 L2400 1600 L2400 8.88178e-14 L0 8.88178e-14  Z\" fill=\"#ffffff\" fill-rule=\"evenodd\" fill-opacity=\"1\"/>\n",
       "<defs>\n",
       "  <clipPath id=\"clip151\">\n",
       "    <rect x=\"480\" y=\"0\" width=\"1681\" height=\"1600\"/>\n",
       "  </clipPath>\n",
       "</defs>\n",
       "<path clip-path=\"url(#clip150)\" d=\"M141.853 1486.45 L2352.76 1486.45 L2352.76 47.2441 L141.853 47.2441  Z\" fill=\"#ffffff\" fill-rule=\"evenodd\" fill-opacity=\"1\"/>\n",
       "<defs>\n",
       "  <clipPath id=\"clip152\">\n",
       "    <rect x=\"141\" y=\"47\" width=\"2212\" height=\"1440\"/>\n",
       "  </clipPath>\n",
       "</defs>\n",
       "<polyline clip-path=\"url(#clip152)\" style=\"stroke:#000000; stroke-linecap:round; stroke-linejoin:round; stroke-width:2; stroke-opacity:0.1; fill:none\" points=\"462.162,1486.45 462.162,47.2441 \"/>\n",
       "<polyline clip-path=\"url(#clip152)\" style=\"stroke:#000000; stroke-linecap:round; stroke-linejoin:round; stroke-width:2; stroke-opacity:0.1; fill:none\" points=\"1149.46,1486.45 1149.46,47.2441 \"/>\n",
       "<polyline clip-path=\"url(#clip152)\" style=\"stroke:#000000; stroke-linecap:round; stroke-linejoin:round; stroke-width:2; stroke-opacity:0.1; fill:none\" points=\"1836.76,1486.45 1836.76,47.2441 \"/>\n",
       "<polyline clip-path=\"url(#clip150)\" style=\"stroke:#000000; stroke-linecap:round; stroke-linejoin:round; stroke-width:4; stroke-opacity:1; fill:none\" points=\"141.853,1486.45 2352.76,1486.45 \"/>\n",
       "<polyline clip-path=\"url(#clip150)\" style=\"stroke:#000000; stroke-linecap:round; stroke-linejoin:round; stroke-width:4; stroke-opacity:1; fill:none\" points=\"462.162,1486.45 462.162,1467.55 \"/>\n",
       "<polyline clip-path=\"url(#clip150)\" style=\"stroke:#000000; stroke-linecap:round; stroke-linejoin:round; stroke-width:4; stroke-opacity:1; fill:none\" points=\"1149.46,1486.45 1149.46,1467.55 \"/>\n",
       "<polyline clip-path=\"url(#clip150)\" style=\"stroke:#000000; stroke-linecap:round; stroke-linejoin:round; stroke-width:4; stroke-opacity:1; fill:none\" points=\"1836.76,1486.45 1836.76,1467.55 \"/>\n",
       "<path clip-path=\"url(#clip150)\" d=\"M333.1 1544.91 L349.42 1544.91 L349.42 1548.85 L327.476 1548.85 L327.476 1544.91 Q330.138 1542.16 334.721 1537.53 Q339.327 1532.88 340.508 1531.53 Q342.753 1529.01 343.633 1527.27 Q344.536 1525.51 344.536 1523.82 Q344.536 1521.07 342.591 1519.33 Q340.67 1517.6 337.568 1517.6 Q335.369 1517.6 332.915 1518.36 Q330.485 1519.13 327.707 1520.68 L327.707 1515.95 Q330.531 1514.82 332.985 1514.24 Q335.438 1513.66 337.475 1513.66 Q342.846 1513.66 346.04 1516.35 Q349.235 1519.03 349.235 1523.52 Q349.235 1525.65 348.424 1527.57 Q347.637 1529.47 345.531 1532.07 Q344.952 1532.74 341.85 1535.95 Q338.749 1539.15 333.1 1544.91 Z\" fill=\"#000000\" fill-rule=\"nonzero\" fill-opacity=\"1\" /><path clip-path=\"url(#clip150)\" d=\"M369.235 1517.37 Q365.623 1517.37 363.795 1520.93 Q361.989 1524.47 361.989 1531.6 Q361.989 1538.71 363.795 1542.27 Q365.623 1545.82 369.235 1545.82 Q372.869 1545.82 374.674 1542.27 Q376.503 1538.71 376.503 1531.6 Q376.503 1524.47 374.674 1520.93 Q372.869 1517.37 369.235 1517.37 M369.235 1513.66 Q375.045 1513.66 378.1 1518.27 Q381.179 1522.85 381.179 1531.6 Q381.179 1540.33 378.1 1544.94 Q375.045 1549.52 369.235 1549.52 Q363.424 1549.52 360.346 1544.94 Q357.29 1540.33 357.29 1531.6 Q357.29 1522.85 360.346 1518.27 Q363.424 1513.66 369.235 1513.66 Z\" fill=\"#000000\" fill-rule=\"nonzero\" fill-opacity=\"1\" /><path clip-path=\"url(#clip150)\" d=\"M393.424 1544.91 L409.744 1544.91 L409.744 1548.85 L387.799 1548.85 L387.799 1544.91 Q390.461 1542.16 395.045 1537.53 Q399.651 1532.88 400.832 1531.53 Q403.077 1529.01 403.957 1527.27 Q404.859 1525.51 404.859 1523.82 Q404.859 1521.07 402.915 1519.33 Q400.994 1517.6 397.892 1517.6 Q395.693 1517.6 393.239 1518.36 Q390.809 1519.13 388.031 1520.68 L388.031 1515.95 Q390.855 1514.82 393.308 1514.24 Q395.762 1513.66 397.799 1513.66 Q403.17 1513.66 406.364 1516.35 Q409.558 1519.03 409.558 1523.52 Q409.558 1525.65 408.748 1527.57 Q407.961 1529.47 405.855 1532.07 Q405.276 1532.74 402.174 1535.95 Q399.072 1539.15 393.424 1544.91 Z\" fill=\"#000000\" fill-rule=\"nonzero\" fill-opacity=\"1\" /><path clip-path=\"url(#clip150)\" d=\"M432.406 1518.36 L420.6 1536.81 L432.406 1536.81 L432.406 1518.36 M431.179 1514.29 L437.058 1514.29 L437.058 1536.81 L441.989 1536.81 L441.989 1540.7 L437.058 1540.7 L437.058 1548.85 L432.406 1548.85 L432.406 1540.7 L416.804 1540.7 L416.804 1536.19 L431.179 1514.29 Z\" fill=\"#000000\" fill-rule=\"nonzero\" fill-opacity=\"1\" /><path clip-path=\"url(#clip150)\" d=\"M446.966 1533.96 L459.442 1533.96 L459.442 1537.76 L446.966 1537.76 L446.966 1533.96 Z\" fill=\"#000000\" fill-rule=\"nonzero\" fill-opacity=\"1\" /><path clip-path=\"url(#clip150)\" d=\"M476.827 1517.37 Q473.215 1517.37 471.387 1520.93 Q469.581 1524.47 469.581 1531.6 Q469.581 1538.71 471.387 1542.27 Q473.215 1545.82 476.827 1545.82 Q480.461 1545.82 482.266 1542.27 Q484.095 1538.71 484.095 1531.6 Q484.095 1524.47 482.266 1520.93 Q480.461 1517.37 476.827 1517.37 M476.827 1513.66 Q482.637 1513.66 485.692 1518.27 Q488.771 1522.85 488.771 1531.6 Q488.771 1540.33 485.692 1544.94 Q482.637 1549.52 476.827 1549.52 Q471.016 1549.52 467.938 1544.94 Q464.882 1540.33 464.882 1531.6 Q464.882 1522.85 467.938 1518.27 Q471.016 1513.66 476.827 1513.66 Z\" fill=\"#000000\" fill-rule=\"nonzero\" fill-opacity=\"1\" /><path clip-path=\"url(#clip150)\" d=\"M507.567 1529.7 Q504.419 1529.7 502.567 1531.86 Q500.738 1534.01 500.738 1537.76 Q500.738 1541.49 502.567 1543.66 Q504.419 1545.82 507.567 1545.82 Q510.715 1545.82 512.544 1543.66 Q514.396 1541.49 514.396 1537.76 Q514.396 1534.01 512.544 1531.86 Q510.715 1529.7 507.567 1529.7 M516.85 1515.05 L516.85 1519.31 Q515.09 1518.48 513.285 1518.04 Q511.502 1517.6 509.743 1517.6 Q505.113 1517.6 502.66 1520.72 Q500.229 1523.85 499.882 1530.17 Q501.248 1528.15 503.308 1527.09 Q505.368 1526 507.845 1526 Q513.053 1526 516.062 1529.17 Q519.095 1532.32 519.095 1537.76 Q519.095 1543.08 515.947 1546.3 Q512.799 1549.52 507.567 1549.52 Q501.572 1549.52 498.401 1544.94 Q495.229 1540.33 495.229 1531.6 Q495.229 1523.41 499.118 1518.55 Q503.007 1513.66 509.558 1513.66 Q511.317 1513.66 513.1 1514.01 Q514.905 1514.36 516.85 1515.05 Z\" fill=\"#000000\" fill-rule=\"nonzero\" fill-opacity=\"1\" /><path clip-path=\"url(#clip150)\" d=\"M524.396 1533.96 L536.873 1533.96 L536.873 1537.76 L524.396 1537.76 L524.396 1533.96 Z\" fill=\"#000000\" fill-rule=\"nonzero\" fill-opacity=\"1\" /><path clip-path=\"url(#clip150)\" d=\"M548.285 1544.91 L564.604 1544.91 L564.604 1548.85 L542.66 1548.85 L542.66 1544.91 Q545.322 1542.16 549.905 1537.53 Q554.511 1532.88 555.692 1531.53 Q557.937 1529.01 558.817 1527.27 Q559.72 1525.51 559.72 1523.82 Q559.72 1521.07 557.775 1519.33 Q555.854 1517.6 552.752 1517.6 Q550.553 1517.6 548.099 1518.36 Q545.669 1519.13 542.891 1520.68 L542.891 1515.95 Q545.715 1514.82 548.169 1514.24 Q550.622 1513.66 552.659 1513.66 Q558.03 1513.66 561.224 1516.35 Q564.419 1519.03 564.419 1523.52 Q564.419 1525.65 563.609 1527.57 Q562.821 1529.47 560.715 1532.07 Q560.136 1532.74 557.034 1535.95 Q553.933 1539.15 548.285 1544.91 Z\" fill=\"#000000\" fill-rule=\"nonzero\" fill-opacity=\"1\" /><path clip-path=\"url(#clip150)\" d=\"M587.266 1518.36 L575.46 1536.81 L587.266 1536.81 L587.266 1518.36 M586.039 1514.29 L591.919 1514.29 L591.919 1536.81 L596.849 1536.81 L596.849 1540.7 L591.919 1540.7 L591.919 1548.85 L587.266 1548.85 L587.266 1540.7 L571.664 1540.7 L571.664 1536.19 L586.039 1514.29 Z\" fill=\"#000000\" fill-rule=\"nonzero\" fill-opacity=\"1\" /><path clip-path=\"url(#clip150)\" d=\"M1021.14 1544.91 L1037.46 1544.91 L1037.46 1548.85 L1015.51 1548.85 L1015.51 1544.91 Q1018.18 1542.16 1022.76 1537.53 Q1027.37 1532.88 1028.55 1531.53 Q1030.79 1529.01 1031.67 1527.27 Q1032.57 1525.51 1032.57 1523.82 Q1032.57 1521.07 1030.63 1519.33 Q1028.71 1517.6 1025.61 1517.6 Q1023.41 1517.6 1020.95 1518.36 Q1018.52 1519.13 1015.75 1520.68 L1015.75 1515.95 Q1018.57 1514.82 1021.02 1514.24 Q1023.48 1513.66 1025.51 1513.66 Q1030.88 1513.66 1034.08 1516.35 Q1037.27 1519.03 1037.27 1523.52 Q1037.27 1525.65 1036.46 1527.57 Q1035.68 1529.47 1033.57 1532.07 Q1032.99 1532.74 1029.89 1535.95 Q1026.79 1539.15 1021.14 1544.91 Z\" fill=\"#000000\" fill-rule=\"nonzero\" fill-opacity=\"1\" /><path clip-path=\"url(#clip150)\" d=\"M1057.27 1517.37 Q1053.66 1517.37 1051.83 1520.93 Q1050.03 1524.47 1050.03 1531.6 Q1050.03 1538.71 1051.83 1542.27 Q1053.66 1545.82 1057.27 1545.82 Q1060.91 1545.82 1062.71 1542.27 Q1064.54 1538.71 1064.54 1531.6 Q1064.54 1524.47 1062.71 1520.93 Q1060.91 1517.37 1057.27 1517.37 M1057.27 1513.66 Q1063.08 1513.66 1066.14 1518.27 Q1069.22 1522.85 1069.22 1531.6 Q1069.22 1540.33 1066.14 1544.94 Q1063.08 1549.52 1057.27 1549.52 Q1051.46 1549.52 1048.38 1544.94 Q1045.33 1540.33 1045.33 1531.6 Q1045.33 1522.85 1048.38 1518.27 Q1051.46 1513.66 1057.27 1513.66 Z\" fill=\"#000000\" fill-rule=\"nonzero\" fill-opacity=\"1\" /><path clip-path=\"url(#clip150)\" d=\"M1081.46 1544.91 L1097.78 1544.91 L1097.78 1548.85 L1075.84 1548.85 L1075.84 1544.91 Q1078.5 1542.16 1083.08 1537.53 Q1087.69 1532.88 1088.87 1531.53 Q1091.12 1529.01 1091.99 1527.27 Q1092.9 1525.51 1092.9 1523.82 Q1092.9 1521.07 1090.95 1519.33 Q1089.03 1517.6 1085.93 1517.6 Q1083.73 1517.6 1081.28 1518.36 Q1078.85 1519.13 1076.07 1520.68 L1076.07 1515.95 Q1078.89 1514.82 1081.35 1514.24 Q1083.8 1513.66 1085.84 1513.66 Q1091.21 1513.66 1094.4 1516.35 Q1097.6 1519.03 1097.6 1523.52 Q1097.6 1525.65 1096.79 1527.57 Q1096 1529.47 1093.89 1532.07 Q1093.31 1532.74 1090.21 1535.95 Q1087.11 1539.15 1081.46 1544.91 Z\" fill=\"#000000\" fill-rule=\"nonzero\" fill-opacity=\"1\" /><path clip-path=\"url(#clip150)\" d=\"M1120.44 1518.36 L1108.64 1536.81 L1120.44 1536.81 L1120.44 1518.36 M1119.22 1514.29 L1125.1 1514.29 L1125.1 1536.81 L1130.03 1536.81 L1130.03 1540.7 L1125.1 1540.7 L1125.1 1548.85 L1120.44 1548.85 L1120.44 1540.7 L1104.84 1540.7 L1104.84 1536.19 L1119.22 1514.29 Z\" fill=\"#000000\" fill-rule=\"nonzero\" fill-opacity=\"1\" /><path clip-path=\"url(#clip150)\" d=\"M1135 1533.96 L1147.48 1533.96 L1147.48 1537.76 L1135 1537.76 L1135 1533.96 Z\" fill=\"#000000\" fill-rule=\"nonzero\" fill-opacity=\"1\" /><path clip-path=\"url(#clip150)\" d=\"M1164.86 1517.37 Q1161.25 1517.37 1159.43 1520.93 Q1157.62 1524.47 1157.62 1531.6 Q1157.62 1538.71 1159.43 1542.27 Q1161.25 1545.82 1164.86 1545.82 Q1168.5 1545.82 1170.3 1542.27 Q1172.13 1538.71 1172.13 1531.6 Q1172.13 1524.47 1170.3 1520.93 Q1168.5 1517.37 1164.86 1517.37 M1164.86 1513.66 Q1170.68 1513.66 1173.73 1518.27 Q1176.81 1522.85 1176.81 1531.6 Q1176.81 1540.33 1173.73 1544.94 Q1170.68 1549.52 1164.86 1549.52 Q1159.05 1549.52 1155.98 1544.94 Q1152.92 1540.33 1152.92 1531.6 Q1152.92 1522.85 1155.98 1518.27 Q1159.05 1513.66 1164.86 1513.66 Z\" fill=\"#000000\" fill-rule=\"nonzero\" fill-opacity=\"1\" /><path clip-path=\"url(#clip150)\" d=\"M1195.61 1529.7 Q1192.46 1529.7 1190.61 1531.86 Q1188.78 1534.01 1188.78 1537.76 Q1188.78 1541.49 1190.61 1543.66 Q1192.46 1545.82 1195.61 1545.82 Q1198.75 1545.82 1200.58 1543.66 Q1202.43 1541.49 1202.43 1537.76 Q1202.43 1534.01 1200.58 1531.86 Q1198.75 1529.7 1195.61 1529.7 M1204.89 1515.05 L1204.89 1519.31 Q1203.13 1518.48 1201.32 1518.04 Q1199.54 1517.6 1197.78 1517.6 Q1193.15 1517.6 1190.7 1520.72 Q1188.27 1523.85 1187.92 1530.17 Q1189.29 1528.15 1191.35 1527.09 Q1193.41 1526 1195.88 1526 Q1201.09 1526 1204.1 1529.17 Q1207.13 1532.32 1207.13 1537.76 Q1207.13 1543.08 1203.99 1546.3 Q1200.84 1549.52 1195.61 1549.52 Q1189.61 1549.52 1186.44 1544.94 Q1183.27 1540.33 1183.27 1531.6 Q1183.27 1523.41 1187.16 1518.55 Q1191.05 1513.66 1197.6 1513.66 Q1199.36 1513.66 1201.14 1514.01 Q1202.94 1514.36 1204.89 1515.05 Z\" fill=\"#000000\" fill-rule=\"nonzero\" fill-opacity=\"1\" /><path clip-path=\"url(#clip150)\" d=\"M1212.43 1533.96 L1224.91 1533.96 L1224.91 1537.76 L1212.43 1537.76 L1212.43 1533.96 Z\" fill=\"#000000\" fill-rule=\"nonzero\" fill-opacity=\"1\" /><path clip-path=\"url(#clip150)\" d=\"M1236.32 1544.91 L1252.64 1544.91 L1252.64 1548.85 L1230.7 1548.85 L1230.7 1544.91 Q1233.36 1542.16 1237.94 1537.53 Q1242.55 1532.88 1243.73 1531.53 Q1245.98 1529.01 1246.86 1527.27 Q1247.76 1525.51 1247.76 1523.82 Q1247.76 1521.07 1245.81 1519.33 Q1243.89 1517.6 1240.79 1517.6 Q1238.59 1517.6 1236.14 1518.36 Q1233.71 1519.13 1230.93 1520.68 L1230.93 1515.95 Q1233.75 1514.82 1236.21 1514.24 Q1238.66 1513.66 1240.7 1513.66 Q1246.07 1513.66 1249.26 1516.35 Q1252.46 1519.03 1252.46 1523.52 Q1252.46 1525.65 1251.65 1527.57 Q1250.86 1529.47 1248.75 1532.07 Q1248.17 1532.74 1245.07 1535.95 Q1241.97 1539.15 1236.32 1544.91 Z\" fill=\"#000000\" fill-rule=\"nonzero\" fill-opacity=\"1\" /><path clip-path=\"url(#clip150)\" d=\"M1262.5 1514.29 L1280.86 1514.29 L1280.86 1518.22 L1266.79 1518.22 L1266.79 1526.7 Q1267.8 1526.35 1268.82 1526.19 Q1269.84 1526 1270.86 1526 Q1276.65 1526 1280.03 1529.17 Q1283.41 1532.34 1283.41 1537.76 Q1283.41 1543.34 1279.93 1546.44 Q1276.46 1549.52 1270.14 1549.52 Q1267.97 1549.52 1265.7 1549.15 Q1263.45 1548.78 1261.05 1548.04 L1261.05 1543.34 Q1263.13 1544.47 1265.35 1545.03 Q1267.57 1545.58 1270.05 1545.58 Q1274.05 1545.58 1276.39 1543.48 Q1278.73 1541.37 1278.73 1537.76 Q1278.73 1534.15 1276.39 1532.04 Q1274.05 1529.94 1270.05 1529.94 Q1268.17 1529.94 1266.3 1530.35 Q1264.45 1530.77 1262.5 1531.65 L1262.5 1514.29 Z\" fill=\"#000000\" fill-rule=\"nonzero\" fill-opacity=\"1\" /><path clip-path=\"url(#clip150)\" d=\"M1707.86 1544.91 L1724.18 1544.91 L1724.18 1548.85 L1702.23 1548.85 L1702.23 1544.91 Q1704.89 1542.16 1709.48 1537.53 Q1714.08 1532.88 1715.27 1531.53 Q1717.51 1529.01 1718.39 1527.27 Q1719.29 1525.51 1719.29 1523.82 Q1719.29 1521.07 1717.35 1519.33 Q1715.43 1517.6 1712.33 1517.6 Q1710.13 1517.6 1707.67 1518.36 Q1705.24 1519.13 1702.46 1520.68 L1702.46 1515.95 Q1705.29 1514.82 1707.74 1514.24 Q1710.2 1513.66 1712.23 1513.66 Q1717.6 1513.66 1720.8 1516.35 Q1723.99 1519.03 1723.99 1523.52 Q1723.99 1525.65 1723.18 1527.57 Q1722.39 1529.47 1720.29 1532.07 Q1719.71 1532.74 1716.61 1535.95 Q1713.51 1539.15 1707.86 1544.91 Z\" fill=\"#000000\" fill-rule=\"nonzero\" fill-opacity=\"1\" /><path clip-path=\"url(#clip150)\" d=\"M1743.99 1517.37 Q1740.38 1517.37 1738.55 1520.93 Q1736.75 1524.47 1736.75 1531.6 Q1736.75 1538.71 1738.55 1542.27 Q1740.38 1545.82 1743.99 1545.82 Q1747.63 1545.82 1749.43 1542.27 Q1751.26 1538.71 1751.26 1531.6 Q1751.26 1524.47 1749.43 1520.93 Q1747.63 1517.37 1743.99 1517.37 M1743.99 1513.66 Q1749.8 1513.66 1752.86 1518.27 Q1755.94 1522.85 1755.94 1531.6 Q1755.94 1540.33 1752.86 1544.94 Q1749.8 1549.52 1743.99 1549.52 Q1738.18 1549.52 1735.1 1544.94 Q1732.05 1540.33 1732.05 1531.6 Q1732.05 1522.85 1735.1 1518.27 Q1738.18 1513.66 1743.99 1513.66 Z\" fill=\"#000000\" fill-rule=\"nonzero\" fill-opacity=\"1\" /><path clip-path=\"url(#clip150)\" d=\"M1768.18 1544.91 L1784.5 1544.91 L1784.5 1548.85 L1762.56 1548.85 L1762.56 1544.91 Q1765.22 1542.16 1769.8 1537.53 Q1774.41 1532.88 1775.59 1531.53 Q1777.83 1529.01 1778.71 1527.27 Q1779.62 1525.51 1779.62 1523.82 Q1779.62 1521.07 1777.67 1519.33 Q1775.75 1517.6 1772.65 1517.6 Q1770.45 1517.6 1768 1518.36 Q1765.57 1519.13 1762.79 1520.68 L1762.79 1515.95 Q1765.61 1514.82 1768.07 1514.24 Q1770.52 1513.66 1772.56 1513.66 Q1777.93 1513.66 1781.12 1516.35 Q1784.32 1519.03 1784.32 1523.52 Q1784.32 1525.65 1783.51 1527.57 Q1782.72 1529.47 1780.61 1532.07 Q1780.03 1532.74 1776.93 1535.95 Q1773.83 1539.15 1768.18 1544.91 Z\" fill=\"#000000\" fill-rule=\"nonzero\" fill-opacity=\"1\" /><path clip-path=\"url(#clip150)\" d=\"M1807.16 1518.36 L1795.36 1536.81 L1807.16 1536.81 L1807.16 1518.36 M1805.94 1514.29 L1811.82 1514.29 L1811.82 1536.81 L1816.75 1536.81 L1816.75 1540.7 L1811.82 1540.7 L1811.82 1548.85 L1807.16 1548.85 L1807.16 1540.7 L1791.56 1540.7 L1791.56 1536.19 L1805.94 1514.29 Z\" fill=\"#000000\" fill-rule=\"nonzero\" fill-opacity=\"1\" /><path clip-path=\"url(#clip150)\" d=\"M1821.72 1533.96 L1834.2 1533.96 L1834.2 1537.76 L1821.72 1537.76 L1821.72 1533.96 Z\" fill=\"#000000\" fill-rule=\"nonzero\" fill-opacity=\"1\" /><path clip-path=\"url(#clip150)\" d=\"M1851.58 1517.37 Q1847.97 1517.37 1846.14 1520.93 Q1844.34 1524.47 1844.34 1531.6 Q1844.34 1538.71 1846.14 1542.27 Q1847.97 1545.82 1851.58 1545.82 Q1855.22 1545.82 1857.02 1542.27 Q1858.85 1538.71 1858.85 1531.6 Q1858.85 1524.47 1857.02 1520.93 Q1855.22 1517.37 1851.58 1517.37 M1851.58 1513.66 Q1857.39 1513.66 1860.45 1518.27 Q1863.53 1522.85 1863.53 1531.6 Q1863.53 1540.33 1860.45 1544.94 Q1857.39 1549.52 1851.58 1549.52 Q1845.77 1549.52 1842.7 1544.94 Q1839.64 1540.33 1839.64 1531.6 Q1839.64 1522.85 1842.7 1518.27 Q1845.77 1513.66 1851.58 1513.66 Z\" fill=\"#000000\" fill-rule=\"nonzero\" fill-opacity=\"1\" /><path clip-path=\"url(#clip150)\" d=\"M1882.32 1529.7 Q1879.18 1529.7 1877.32 1531.86 Q1875.5 1534.01 1875.5 1537.76 Q1875.5 1541.49 1877.32 1543.66 Q1879.18 1545.82 1882.32 1545.82 Q1885.47 1545.82 1887.3 1543.66 Q1889.15 1541.49 1889.15 1537.76 Q1889.15 1534.01 1887.3 1531.86 Q1885.47 1529.7 1882.32 1529.7 M1891.61 1515.05 L1891.61 1519.31 Q1889.85 1518.48 1888.04 1518.04 Q1886.26 1517.6 1884.5 1517.6 Q1879.87 1517.6 1877.42 1520.72 Q1874.99 1523.85 1874.64 1530.17 Q1876.01 1528.15 1878.07 1527.09 Q1880.13 1526 1882.6 1526 Q1887.81 1526 1890.82 1529.17 Q1893.85 1532.32 1893.85 1537.76 Q1893.85 1543.08 1890.7 1546.3 Q1887.56 1549.52 1882.32 1549.52 Q1876.33 1549.52 1873.16 1544.94 Q1869.99 1540.33 1869.99 1531.6 Q1869.99 1523.41 1873.88 1518.55 Q1877.76 1513.66 1884.32 1513.66 Q1886.07 1513.66 1887.86 1514.01 Q1889.66 1514.36 1891.61 1515.05 Z\" fill=\"#000000\" fill-rule=\"nonzero\" fill-opacity=\"1\" /><path clip-path=\"url(#clip150)\" d=\"M1899.15 1533.96 L1911.63 1533.96 L1911.63 1537.76 L1899.15 1537.76 L1899.15 1533.96 Z\" fill=\"#000000\" fill-rule=\"nonzero\" fill-opacity=\"1\" /><path clip-path=\"url(#clip150)\" d=\"M1923.04 1544.91 L1939.36 1544.91 L1939.36 1548.85 L1917.42 1548.85 L1917.42 1544.91 Q1920.08 1542.16 1924.66 1537.53 Q1929.27 1532.88 1930.45 1531.53 Q1932.69 1529.01 1933.57 1527.27 Q1934.48 1525.51 1934.48 1523.82 Q1934.48 1521.07 1932.53 1519.33 Q1930.61 1517.6 1927.51 1517.6 Q1925.31 1517.6 1922.86 1518.36 Q1920.43 1519.13 1917.65 1520.68 L1917.65 1515.95 Q1920.47 1514.82 1922.93 1514.24 Q1925.38 1513.66 1927.42 1513.66 Q1932.79 1513.66 1935.98 1516.35 Q1939.18 1519.03 1939.18 1523.52 Q1939.18 1525.65 1938.37 1527.57 Q1937.58 1529.47 1935.47 1532.07 Q1934.89 1532.74 1931.79 1535.95 Q1928.69 1539.15 1923.04 1544.91 Z\" fill=\"#000000\" fill-rule=\"nonzero\" fill-opacity=\"1\" /><path clip-path=\"url(#clip150)\" d=\"M1959.75 1529.7 Q1956.61 1529.7 1954.75 1531.86 Q1952.93 1534.01 1952.93 1537.76 Q1952.93 1541.49 1954.75 1543.66 Q1956.61 1545.82 1959.75 1545.82 Q1962.9 1545.82 1964.73 1543.66 Q1966.58 1541.49 1966.58 1537.76 Q1966.58 1534.01 1964.73 1531.86 Q1962.9 1529.7 1959.75 1529.7 M1969.04 1515.05 L1969.04 1519.31 Q1967.28 1518.48 1965.47 1518.04 Q1963.69 1517.6 1961.93 1517.6 Q1957.3 1517.6 1954.85 1520.72 Q1952.42 1523.85 1952.07 1530.17 Q1953.44 1528.15 1955.5 1527.09 Q1957.56 1526 1960.03 1526 Q1965.24 1526 1968.25 1529.17 Q1971.28 1532.32 1971.28 1537.76 Q1971.28 1543.08 1968.13 1546.3 Q1964.99 1549.52 1959.75 1549.52 Q1953.76 1549.52 1950.59 1544.94 Q1947.42 1540.33 1947.42 1531.6 Q1947.42 1523.41 1951.31 1518.55 Q1955.19 1513.66 1961.75 1513.66 Q1963.5 1513.66 1965.29 1514.01 Q1967.09 1514.36 1969.04 1515.05 Z\" fill=\"#000000\" fill-rule=\"nonzero\" fill-opacity=\"1\" /><polyline clip-path=\"url(#clip152)\" style=\"stroke:#000000; stroke-linecap:round; stroke-linejoin:round; stroke-width:2; stroke-opacity:0.1; fill:none\" points=\"141.853,1486.45 2352.76,1486.45 \"/>\n",
       "<polyline clip-path=\"url(#clip152)\" style=\"stroke:#000000; stroke-linecap:round; stroke-linejoin:round; stroke-width:2; stroke-opacity:0.1; fill:none\" points=\"141.853,1246.58 2352.76,1246.58 \"/>\n",
       "<polyline clip-path=\"url(#clip152)\" style=\"stroke:#000000; stroke-linecap:round; stroke-linejoin:round; stroke-width:2; stroke-opacity:0.1; fill:none\" points=\"141.853,1006.71 2352.76,1006.71 \"/>\n",
       "<polyline clip-path=\"url(#clip152)\" style=\"stroke:#000000; stroke-linecap:round; stroke-linejoin:round; stroke-width:2; stroke-opacity:0.1; fill:none\" points=\"141.853,766.846 2352.76,766.846 \"/>\n",
       "<polyline clip-path=\"url(#clip152)\" style=\"stroke:#000000; stroke-linecap:round; stroke-linejoin:round; stroke-width:2; stroke-opacity:0.1; fill:none\" points=\"141.853,526.979 2352.76,526.979 \"/>\n",
       "<polyline clip-path=\"url(#clip152)\" style=\"stroke:#000000; stroke-linecap:round; stroke-linejoin:round; stroke-width:2; stroke-opacity:0.1; fill:none\" points=\"141.853,287.111 2352.76,287.111 \"/>\n",
       "<polyline clip-path=\"url(#clip152)\" style=\"stroke:#000000; stroke-linecap:round; stroke-linejoin:round; stroke-width:2; stroke-opacity:0.1; fill:none\" points=\"141.853,47.2441 2352.76,47.2441 \"/>\n",
       "<polyline clip-path=\"url(#clip150)\" style=\"stroke:#000000; stroke-linecap:round; stroke-linejoin:round; stroke-width:4; stroke-opacity:1; fill:none\" points=\"141.853,1486.45 141.853,47.2441 \"/>\n",
       "<polyline clip-path=\"url(#clip150)\" style=\"stroke:#000000; stroke-linecap:round; stroke-linejoin:round; stroke-width:4; stroke-opacity:1; fill:none\" points=\"141.853,1486.45 160.751,1486.45 \"/>\n",
       "<polyline clip-path=\"url(#clip150)\" style=\"stroke:#000000; stroke-linecap:round; stroke-linejoin:round; stroke-width:4; stroke-opacity:1; fill:none\" points=\"141.853,1246.58 160.751,1246.58 \"/>\n",
       "<polyline clip-path=\"url(#clip150)\" style=\"stroke:#000000; stroke-linecap:round; stroke-linejoin:round; stroke-width:4; stroke-opacity:1; fill:none\" points=\"141.853,1006.71 160.751,1006.71 \"/>\n",
       "<polyline clip-path=\"url(#clip150)\" style=\"stroke:#000000; stroke-linecap:round; stroke-linejoin:round; stroke-width:4; stroke-opacity:1; fill:none\" points=\"141.853,766.846 160.751,766.846 \"/>\n",
       "<polyline clip-path=\"url(#clip150)\" style=\"stroke:#000000; stroke-linecap:round; stroke-linejoin:round; stroke-width:4; stroke-opacity:1; fill:none\" points=\"141.853,526.979 160.751,526.979 \"/>\n",
       "<polyline clip-path=\"url(#clip150)\" style=\"stroke:#000000; stroke-linecap:round; stroke-linejoin:round; stroke-width:4; stroke-opacity:1; fill:none\" points=\"141.853,287.111 160.751,287.111 \"/>\n",
       "<polyline clip-path=\"url(#clip150)\" style=\"stroke:#000000; stroke-linecap:round; stroke-linejoin:round; stroke-width:4; stroke-opacity:1; fill:none\" points=\"141.853,47.2441 160.751,47.2441 \"/>\n",
       "<path clip-path=\"url(#clip150)\" d=\"M93.9086 1472.25 Q90.2975 1472.25 88.4688 1475.81 Q86.6632 1479.35 86.6632 1486.48 Q86.6632 1493.59 88.4688 1497.15 Q90.2975 1500.7 93.9086 1500.7 Q97.5428 1500.7 99.3483 1497.15 Q101.177 1493.59 101.177 1486.48 Q101.177 1479.35 99.3483 1475.81 Q97.5428 1472.25 93.9086 1472.25 M93.9086 1468.54 Q99.7187 1468.54 102.774 1473.15 Q105.853 1477.73 105.853 1486.48 Q105.853 1495.21 102.774 1499.82 Q99.7187 1504.4 93.9086 1504.4 Q88.0984 1504.4 85.0197 1499.82 Q81.9642 1495.21 81.9642 1486.48 Q81.9642 1477.73 85.0197 1473.15 Q88.0984 1468.54 93.9086 1468.54 Z\" fill=\"#000000\" fill-rule=\"nonzero\" fill-opacity=\"1\" /><path clip-path=\"url(#clip150)\" d=\"M54.5569 1259.93 L62.1958 1259.93 L62.1958 1233.56 L53.8856 1235.23 L53.8856 1230.97 L62.1495 1229.3 L66.8254 1229.3 L66.8254 1259.93 L74.4642 1259.93 L74.4642 1263.86 L54.5569 1263.86 L54.5569 1259.93 Z\" fill=\"#000000\" fill-rule=\"nonzero\" fill-opacity=\"1\" /><path clip-path=\"url(#clip150)\" d=\"M93.9086 1232.38 Q90.2975 1232.38 88.4688 1235.94 Q86.6632 1239.49 86.6632 1246.62 Q86.6632 1253.72 88.4688 1257.29 Q90.2975 1260.83 93.9086 1260.83 Q97.5428 1260.83 99.3483 1257.29 Q101.177 1253.72 101.177 1246.62 Q101.177 1239.49 99.3483 1235.94 Q97.5428 1232.38 93.9086 1232.38 M93.9086 1228.68 Q99.7187 1228.68 102.774 1233.28 Q105.853 1237.87 105.853 1246.62 Q105.853 1255.34 102.774 1259.95 Q99.7187 1264.53 93.9086 1264.53 Q88.0984 1264.53 85.0197 1259.95 Q81.9642 1255.34 81.9642 1246.62 Q81.9642 1237.87 85.0197 1233.28 Q88.0984 1228.68 93.9086 1228.68 Z\" fill=\"#000000\" fill-rule=\"nonzero\" fill-opacity=\"1\" /><path clip-path=\"url(#clip150)\" d=\"M57.7745 1020.06 L74.0939 1020.06 L74.0939 1023.99 L52.1495 1023.99 L52.1495 1020.06 Q54.8115 1017.3 59.3949 1012.67 Q64.0013 1008.02 65.1819 1006.68 Q67.4272 1004.16 68.3068 1002.42 Q69.2096 1000.66 69.2096 998.97 Q69.2096 996.216 67.2652 994.48 Q65.3439 992.743 62.2421 992.743 Q60.043 992.743 57.5893 993.507 Q55.1588 994.271 52.381 995.822 L52.381 991.1 Q55.2051 989.966 57.6588 989.387 Q60.1124 988.808 62.1495 988.808 Q67.5198 988.808 70.7142 991.493 Q73.9087 994.179 73.9087 998.669 Q73.9087 1000.8 73.0985 1002.72 Q72.3115 1004.62 70.205 1007.21 Q69.6263 1007.88 66.5245 1011.1 Q63.4226 1014.29 57.7745 1020.06 Z\" fill=\"#000000\" fill-rule=\"nonzero\" fill-opacity=\"1\" /><path clip-path=\"url(#clip150)\" d=\"M93.9086 992.512 Q90.2975 992.512 88.4688 996.077 Q86.6632 999.618 86.6632 1006.75 Q86.6632 1013.85 88.4688 1017.42 Q90.2975 1020.96 93.9086 1020.96 Q97.5428 1020.96 99.3483 1017.42 Q101.177 1013.85 101.177 1006.75 Q101.177 999.618 99.3483 996.077 Q97.5428 992.512 93.9086 992.512 M93.9086 988.808 Q99.7187 988.808 102.774 993.415 Q105.853 997.998 105.853 1006.75 Q105.853 1015.47 102.774 1020.08 Q99.7187 1024.66 93.9086 1024.66 Q88.0984 1024.66 85.0197 1020.08 Q81.9642 1015.47 81.9642 1006.75 Q81.9642 997.998 85.0197 993.415 Q88.0984 988.808 93.9086 988.808 Z\" fill=\"#000000\" fill-rule=\"nonzero\" fill-opacity=\"1\" /><path clip-path=\"url(#clip150)\" d=\"M67.9133 765.492 Q71.2698 766.209 73.1448 768.478 Q75.0429 770.746 75.0429 774.08 Q75.0429 779.195 71.5244 781.996 Q68.0059 784.797 61.5245 784.797 Q59.3486 784.797 57.0338 784.357 Q54.7421 783.941 52.2884 783.084 L52.2884 778.57 Q54.2328 779.705 56.5477 780.283 Q58.8625 780.862 61.3856 780.862 Q65.7837 780.862 68.0754 779.126 Q70.3902 777.39 70.3902 774.08 Q70.3902 771.024 68.2374 769.311 Q66.1078 767.575 62.2884 767.575 L58.2606 767.575 L58.2606 763.733 L62.4735 763.733 Q65.9226 763.733 67.7513 762.367 Q69.58 760.978 69.58 758.385 Q69.58 755.723 67.6819 754.311 Q65.8069 752.876 62.2884 752.876 Q60.3671 752.876 58.168 753.293 Q55.969 753.709 53.3301 754.589 L53.3301 750.422 Q55.9921 749.682 58.3069 749.311 Q60.6449 748.941 62.705 748.941 Q68.0291 748.941 71.1309 751.372 Q74.2327 753.779 74.2327 757.899 Q74.2327 760.77 72.5892 762.76 Q70.9457 764.728 67.9133 765.492 Z\" fill=\"#000000\" fill-rule=\"nonzero\" fill-opacity=\"1\" /><path clip-path=\"url(#clip150)\" d=\"M93.9086 752.645 Q90.2975 752.645 88.4688 756.209 Q86.6632 759.751 86.6632 766.881 Q86.6632 773.987 88.4688 777.552 Q90.2975 781.094 93.9086 781.094 Q97.5428 781.094 99.3483 777.552 Q101.177 773.987 101.177 766.881 Q101.177 759.751 99.3483 756.209 Q97.5428 752.645 93.9086 752.645 M93.9086 748.941 Q99.7187 748.941 102.774 753.547 Q105.853 758.131 105.853 766.881 Q105.853 775.608 102.774 780.214 Q99.7187 784.797 93.9086 784.797 Q88.0984 784.797 85.0197 780.214 Q81.9642 775.608 81.9642 766.881 Q81.9642 758.131 85.0197 753.547 Q88.0984 748.941 93.9086 748.941 Z\" fill=\"#000000\" fill-rule=\"nonzero\" fill-opacity=\"1\" /><path clip-path=\"url(#clip150)\" d=\"M66.5939 513.773 L54.7884 532.222 L66.5939 532.222 L66.5939 513.773 M65.367 509.699 L71.2466 509.699 L71.2466 532.222 L76.1772 532.222 L76.1772 536.111 L71.2466 536.111 L71.2466 544.259 L66.5939 544.259 L66.5939 536.111 L50.9921 536.111 L50.9921 531.597 L65.367 509.699 Z\" fill=\"#000000\" fill-rule=\"nonzero\" fill-opacity=\"1\" /><path clip-path=\"url(#clip150)\" d=\"M93.9086 512.777 Q90.2975 512.777 88.4688 516.342 Q86.6632 519.884 86.6632 527.013 Q86.6632 534.12 88.4688 537.685 Q90.2975 541.226 93.9086 541.226 Q97.5428 541.226 99.3483 537.685 Q101.177 534.12 101.177 527.013 Q101.177 519.884 99.3483 516.342 Q97.5428 512.777 93.9086 512.777 M93.9086 509.074 Q99.7187 509.074 102.774 513.68 Q105.853 518.263 105.853 527.013 Q105.853 535.74 102.774 540.347 Q99.7187 544.93 93.9086 544.93 Q88.0984 544.93 85.0197 540.347 Q81.9642 535.74 81.9642 527.013 Q81.9642 518.263 85.0197 513.68 Q88.0984 509.074 93.9086 509.074 Z\" fill=\"#000000\" fill-rule=\"nonzero\" fill-opacity=\"1\" /><path clip-path=\"url(#clip150)\" d=\"M53.793 269.831 L72.1494 269.831 L72.1494 273.767 L58.0754 273.767 L58.0754 282.239 Q59.0939 281.892 60.1124 281.729 Q61.131 281.544 62.1495 281.544 Q67.9365 281.544 71.3161 284.716 Q74.6957 287.887 74.6957 293.303 Q74.6957 298.882 71.2235 301.984 Q67.7513 305.063 61.4319 305.063 Q59.256 305.063 56.9875 304.692 Q54.7421 304.322 52.3347 303.581 L52.3347 298.882 Q54.418 300.016 56.6402 300.572 Q58.8625 301.128 61.3393 301.128 Q65.3439 301.128 67.6819 299.021 Q70.0198 296.915 70.0198 293.303 Q70.0198 289.692 67.6819 287.586 Q65.3439 285.479 61.3393 285.479 Q59.4643 285.479 57.5893 285.896 Q55.7375 286.313 53.793 287.192 L53.793 269.831 Z\" fill=\"#000000\" fill-rule=\"nonzero\" fill-opacity=\"1\" /><path clip-path=\"url(#clip150)\" d=\"M93.9086 272.91 Q90.2975 272.91 88.4688 276.475 Q86.6632 280.017 86.6632 287.146 Q86.6632 294.253 88.4688 297.817 Q90.2975 301.359 93.9086 301.359 Q97.5428 301.359 99.3483 297.817 Q101.177 294.253 101.177 287.146 Q101.177 280.017 99.3483 276.475 Q97.5428 272.91 93.9086 272.91 M93.9086 269.206 Q99.7187 269.206 102.774 273.813 Q105.853 278.396 105.853 287.146 Q105.853 295.873 102.774 300.479 Q99.7187 305.063 93.9086 305.063 Q88.0984 305.063 85.0197 300.479 Q81.9642 295.873 81.9642 287.146 Q81.9642 278.396 85.0197 273.813 Q88.0984 269.206 93.9086 269.206 Z\" fill=\"#000000\" fill-rule=\"nonzero\" fill-opacity=\"1\" /><path clip-path=\"url(#clip150)\" d=\"M64.3254 45.3807 Q61.1773 45.3807 59.3254 47.5334 Q57.4967 49.6862 57.4967 53.4362 Q57.4967 57.163 59.3254 59.3389 Q61.1773 61.4917 64.3254 61.4917 Q67.4735 61.4917 69.3022 59.3389 Q71.1541 57.163 71.1541 53.4362 Q71.1541 49.6862 69.3022 47.5334 Q67.4735 45.3807 64.3254 45.3807 M73.6077 30.728 L73.6077 34.9872 Q71.8485 34.1539 70.0429 33.7141 Q68.2606 33.2743 66.5013 33.2743 Q61.8717 33.2743 59.418 36.3992 Q56.9875 39.5242 56.6402 45.8436 Q58.006 43.8298 60.0662 42.765 Q62.1263 41.677 64.6032 41.677 Q69.8115 41.677 72.8207 44.8483 Q75.8531 47.9964 75.8531 53.4362 Q75.8531 58.7602 72.705 61.9778 Q69.5568 65.1954 64.3254 65.1954 Q58.33 65.1954 55.1588 60.6121 Q51.9875 56.0056 51.9875 47.2788 Q51.9875 39.0844 55.8764 34.2233 Q59.7652 29.3391 66.3161 29.3391 Q68.0754 29.3391 69.8578 29.6863 Q71.6633 30.0335 73.6077 30.728 Z\" fill=\"#000000\" fill-rule=\"nonzero\" fill-opacity=\"1\" /><path clip-path=\"url(#clip150)\" d=\"M93.9086 33.0428 Q90.2975 33.0428 88.4688 36.6076 Q86.6632 40.1492 86.6632 47.2788 Q86.6632 54.3853 88.4688 57.9501 Q90.2975 61.4917 93.9086 61.4917 Q97.5428 61.4917 99.3483 57.9501 Q101.177 54.3853 101.177 47.2788 Q101.177 40.1492 99.3483 36.6076 Q97.5428 33.0428 93.9086 33.0428 M93.9086 29.3391 Q99.7187 29.3391 102.774 33.9456 Q105.853 38.5289 105.853 47.2788 Q105.853 56.0056 102.774 60.6121 Q99.7187 65.1954 93.9086 65.1954 Q88.0984 65.1954 85.0197 60.6121 Q81.9642 56.0056 81.9642 47.2788 Q81.9642 38.5289 85.0197 33.9456 Q88.0984 29.3391 93.9086 29.3391 Z\" fill=\"#000000\" fill-rule=\"nonzero\" fill-opacity=\"1\" /><polyline clip-path=\"url(#clip152)\" style=\"stroke:#000000; stroke-linecap:round; stroke-linejoin:round; stroke-width:10; stroke-opacity:1; fill:none\" points=\"204.426,1378.51 209.199,1402.49 213.971,1402.49 218.744,1414.49 223.517,1450.47 228.29,1462.46 233.063,1438.47 237.836,1450.47 242.609,1462.46 247.382,1462.46 252.155,1462.46 256.928,1462.46 261.7,1462.46 266.473,1450.47 271.246,1438.47 276.019,1438.47 280.792,1426.48 285.565,1414.49 290.338,1414.49 295.111,1414.49 299.884,1414.49 304.657,1414.49 309.429,1402.49 314.202,1414.49 318.975,1414.49 323.748,1426.48 328.521,1438.47 333.294,1438.47 338.067,1426.48 342.84,1426.48 347.613,1438.47 352.386,1426.48 357.158,1450.47 361.931,1450.47 366.704,1462.46 371.477,1474.45 376.25,1462.46 381.023,1462.46 385.796,1462.46 390.569,1474.45 395.342,1462.46 400.115,1462.46 404.887,1462.46 409.66,1462.46 414.433,1462.46 419.206,1462.46 423.979,1474.45 428.752,1462.46 433.525,1438.47 438.298,1462.46 443.071,1462.46 447.844,1450.47 452.616,1426.48 457.389,1438.47 462.162,1426.48 466.935,1414.49 471.708,1426.48 476.481,1426.48 481.254,1450.47 486.027,1438.47 490.8,1426.48 495.573,1426.48 500.345,1414.49 505.118,1426.48 509.891,1426.48 514.664,1426.48 519.437,1438.47 524.21,1414.49 528.983,1426.48 533.756,1402.49 538.529,1414.49 543.302,1402.49 548.075,1402.49 552.847,1402.49 557.62,1414.49 562.393,1366.51 567.166,1390.5 571.939,1390.5 576.712,1378.51 581.485,1378.51 586.258,1378.51 591.031,1390.5 595.804,1402.49 600.576,1390.5 605.349,1390.5 610.122,1390.5 614.895,1354.52 619.668,1366.51 624.441,1354.52 629.214,1354.52 633.987,1342.53 638.76,1354.52 643.533,1330.53 648.305,1318.54 653.078,1318.54 657.851,1318.54 662.624,1342.53 667.397,1354.52 672.17,1378.51 676.943,1378.51 681.716,1366.51 686.489,1354.52 691.262,1330.53 696.034,1342.53 700.807,1330.53 705.58,1342.53 710.353,1318.54 715.126,1306.55 719.899,1306.55 724.672,1294.55 729.445,1330.53 734.218,1306.55 738.991,1354.52 743.763,1330.53 748.536,1318.54 753.309,1330.53 758.082,1330.53 762.855,1306.55 767.628,1294.55 772.401,1342.53 777.174,1306.55 781.947,1330.53 786.72,1306.55 791.492,1378.51 796.265,1378.51 801.038,1318.54 805.811,1366.51 810.584,1378.51 815.357,1366.51 820.13,1402.49 824.903,1390.5 829.676,1354.52 834.449,1390.5 839.221,1366.51 843.994,1378.51 848.767,1390.5 853.54,1390.5 858.313,1414.49 863.086,1414.49 867.859,1402.49 872.632,1402.49 877.405,1414.49 882.178,1426.48 886.95,1402.49 891.723,1414.49 896.496,1438.47 901.269,1426.48 906.042,1426.48 910.815,1438.47 915.588,1450.47 920.361,1438.47 925.134,1450.47 929.907,1450.47 934.679,1450.47 939.452,1462.46 944.225,1462.46 948.998,1462.46 953.771,1450.47 958.544,1462.46 963.317,1462.46 968.09,1450.47 972.863,1462.46 977.636,1462.46 982.408,1462.46 987.181,1462.46 991.954,1450.47 996.727,1450.47 1001.5,1450.47 1006.27,1438.47 1011.05,1462.46 1015.82,1450.47 1020.59,1438.47 1025.36,1426.48 1030.14,1450.47 1034.91,1438.47 1039.68,1426.48 1044.46,1438.47 1049.23,1414.49 1054,1402.49 1058.77,1414.49 1063.55,1402.49 1068.32,1402.49 1073.09,1402.49 1077.87,1390.5 1082.64,1342.53 1087.41,1354.52 1092.19,1330.53 1096.96,1342.53 1101.73,1294.55 1106.5,1270.57 1111.28,1246.58 1116.05,1234.59 1120.82,1210.6 1125.6,1138.64 1130.37,1006.71 1135.14,850.8 1139.91,826.813 1144.69,886.78 1149.46,946.746 1154.23,802.826 1159.01,874.786 1163.78,910.766 1168.55,1054.69 1173.32,1138.64 1178.1,1174.62 1182.87,1210.6 1187.64,1198.61 1192.42,1246.58 1197.19,1198.61 1201.96,1222.59 1206.73,1246.58 1211.51,1282.56 1216.28,1282.56 1221.05,1258.57 1225.83,1270.57 1230.6,1282.56 1235.37,1270.57 1240.15,1246.58 1244.92,1234.59 1249.69,1222.59 1254.46,1246.58 1259.24,1234.59 1264.01,1222.59 1268.78,1198.61 1273.56,1198.61 1278.33,1222.59 1283.1,1234.59 1287.87,1234.59 1292.65,1090.67 1297.42,1090.67 1302.19,1210.6 1306.97,1198.61 1311.74,1210.6 1316.51,1198.61 1321.28,1198.61 1326.06,1090.67 1330.83,670.899 1335.6,526.979 1340.38,634.919 1345.15,754.853 1349.92,814.819 1354.69,1006.71 1359.47,970.733 1364.24,814.819 1369.01,682.892 1373.79,790.833 1378.56,802.826 1383.33,826.813 1388.1,862.793 1392.88,934.753 1397.65,958.74 1402.42,994.72 1407.2,982.727 1411.97,1042.69 1416.74,1090.67 1421.52,1090.67 1426.29,1102.66 1431.06,1066.68 1435.83,1078.67 1440.61,1006.71 1445.38,1006.71 1450.15,1018.71 1454.93,994.72 1459.7,1006.71 1464.47,1030.7 1469.24,970.733 1474.02,1042.69 1478.79,1054.69 1483.56,1126.65 1488.34,1126.65 1493.11,1138.64 1497.88,1150.63 1502.65,1126.65 1507.43,1114.65 1512.2,1174.62 1516.97,1174.62 1521.75,1162.63 1526.52,1186.61 1531.29,1174.62 1536.06,1198.61 1540.84,1210.6 1545.61,1234.59 1550.38,1258.57 1555.16,1246.58 1559.93,1270.57 1564.7,1246.58 1569.48,1234.59 1574.25,1246.58 1579.02,1258.57 1583.79,1210.6 1588.57,1246.58 1593.34,1246.58 1598.11,1258.57 1602.89,1270.57 1607.66,1270.57 1612.43,1258.57 1617.2,1246.58 1621.98,1294.55 1626.75,1318.54 1631.52,1294.55 1636.3,1318.54 1641.07,1330.53 1645.84,1318.54 1650.61,1330.53 1655.39,1342.53 1660.16,1354.52 1664.93,1342.53 1669.71,1366.51 1674.48,1354.52 1679.25,1366.51 1684.02,1330.53 1688.8,1318.54 1693.57,1306.55 1698.34,1282.56 1703.12,1282.56 1707.89,1270.57 1712.66,1246.58 1717.44,1174.62 1722.21,1186.61 1726.98,1210.6 1731.75,1282.56 1736.53,1282.56 1741.3,1270.57 1746.07,1246.58 1750.85,1222.59 1755.62,1222.59 1760.39,1150.63 1765.16,1222.59 1769.94,1258.57 1774.71,1270.57 1779.48,1270.57 1784.26,1282.56 1789.03,1294.55 1793.8,1282.56 1798.57,1282.56 1803.35,1294.55 1808.12,1306.55 1812.89,1318.54 1817.67,1306.55 1822.44,1306.55 1827.21,1282.56 1831.98,1270.57 1836.76,1234.59 1841.53,1234.59 1846.3,1246.58 1851.08,1330.53 1855.85,1354.52 1860.62,1318.54 1865.4,1270.57 1870.17,1330.53 1874.94,1354.52 1879.71,1342.53 1884.49,1342.53 1889.26,1366.51 1894.03,1354.52 1898.81,1354.52 1903.58,1354.52 1908.35,1342.53 1913.12,1342.53 1917.9,1342.53 1922.67,1306.55 1927.44,1318.54 1932.22,1270.57 1936.99,1234.59 1941.76,1258.57 1946.53,1198.61 1951.31,1162.63 1956.08,1138.64 1960.85,1114.65 1965.63,1138.64 1970.4,1030.7 1975.17,1054.69 1979.94,1078.67 1984.72,1078.67 1989.49,1090.67 1994.26,1090.67 1999.04,1114.65 2003.81,1078.67 2008.58,1066.68 2013.35,1102.66 2018.13,1126.65 2022.9,1150.63 2027.67,1162.63 2032.45,1210.6 2037.22,1222.59 2041.99,1246.58 2046.77,1294.55 2051.54,1282.56 2056.31,1330.53 2061.08,1342.53 2065.86,1378.51 2070.63,1390.5 2075.4,1402.49 2080.18,1402.49 2084.95,1390.5 2089.72,1426.48 2094.49,1402.49 2099.27,1414.49 2104.04,1402.49 2108.81,1378.51 2113.59,1342.53 2118.36,1330.53 2123.13,1330.53 2127.9,1354.52 2132.68,1354.52 2137.45,1390.5 2142.22,1402.49 2147,1378.51 2151.77,1366.51 2156.54,1402.49 2161.31,1414.49 2166.09,1414.49 2170.86,1450.47 2175.63,1462.46 2180.41,1462.46 2185.18,1462.46 2189.95,1462.46 2194.73,1474.45 2199.5,1474.45 2204.27,1474.45 2209.04,1450.47 2213.82,1486.45 2218.59,1474.45 2223.36,1486.45 2228.14,1474.45 2232.91,1474.45 2237.68,1486.45 2242.45,1486.45 2247.23,1474.45 2252,1462.46 2256.77,1462.46 2261.55,1462.46 \"/>\n",
       "<polyline clip-path=\"url(#clip152)\" style=\"stroke:#e26f46; stroke-linecap:round; stroke-linejoin:round; stroke-width:10; stroke-opacity:1; fill:none\" points=\"2266.32,1412.37 2271.09,1418.8 2275.86,1414.07 2280.64,1414.31 2285.41,1420.24 2290.18,1416.27 \"/>\n",
       "<path clip-path=\"url(#clip152)\" d=\"M-2069.05 1486.45 L4563.66 1486.45 L4563.66 287.111 L-2069.05 287.111 L-2069.05 1486.45  Z\" fill=\"#008000\" fill-rule=\"evenodd\" fill-opacity=\"0.2\"/>\n",
       "<polyline clip-path=\"url(#clip152)\" style=\"stroke:#000000; stroke-linecap:round; stroke-linejoin:round; stroke-width:0; stroke-opacity:0.2; fill:none\" points=\"-2069.05,1486.45 4563.66,1486.45 4563.66,287.111 -2069.05,287.111 -2069.05,1486.45 \"/>\n",
       "<path clip-path=\"url(#clip152)\" d=\"M-2069.05 287.111 L4563.66 287.111 L4563.66 -912.225 L-2069.05 -912.225 L-2069.05 287.111  Z\" fill=\"#ffff00\" fill-rule=\"evenodd\" fill-opacity=\"0.2\"/>\n",
       "<polyline clip-path=\"url(#clip152)\" style=\"stroke:#000000; stroke-linecap:round; stroke-linejoin:round; stroke-width:0; stroke-opacity:0.2; fill:none\" points=\"-2069.05,287.111 4563.66,287.111 4563.66,-912.225 -2069.05,-912.225 -2069.05,287.111 \"/>\n",
       "</svg>\n"
      ]
     },
     "metadata": {},
     "output_type": "display_data"
    }
   ],
   "source": [
    "using Plots\n",
    "predictions=convert(Vector{Float32},vec(predictions))\n",
    "p=plot(dt[1:end-output_steps], tar_vector, label=\"Original Data\",ylims=(0,60),color=:black,lw=2.5)\n",
    "plot!(p,dt[end-output_steps+1:end], predictions, label=\"Predictions\",lw=2.5)\n",
    "hspan!(p,[0,50],color=:green,alpha=0.2)\n",
    "hspan!(p,[50,100],color=:yellow,alpha=0.2,legend=false)"
   ]
  },
  {
   "cell_type": "code",
   "execution_count": 20,
   "metadata": {},
   "outputs": [],
   "source": []
  }
 ],
 "metadata": {
  "kernelspec": {
   "display_name": "Julia 1.10.3",
   "language": "julia",
   "name": "julia-1.10"
  },
  "language_info": {
   "file_extension": ".jl",
   "mimetype": "application/julia",
   "name": "julia",
   "version": "1.10.3"
  }
 },
 "nbformat": 4,
 "nbformat_minor": 2
}
